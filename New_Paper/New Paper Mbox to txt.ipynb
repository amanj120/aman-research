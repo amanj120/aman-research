{
 "cells": [
  {
   "cell_type": "code",
   "execution_count": 4,
   "metadata": {},
   "outputs": [],
   "source": [
    "import mailbox\n",
    "import os\n",
    "from os import listdir\n",
    "from os.path import isfile, join\n",
    "\n",
    "m = mailbox.mbox(\"New Paper.mbox\")\n",
    "abspath = 'C:/Users/amanj/Google Drive/Current/Research/New_Paper/parsed_docs/'\n",
    "docStarts = ['\\n1. ', '\\n2. ', '\\n3. ', '\\n4. ', '\\n5. ', '\\n6. ', '\\n7. ', '\\n8. ', '\\n9. ']\n",
    "docEnd = '\\n\\n'"
   ]
  },
  {
   "cell_type": "code",
   "execution_count": 5,
   "metadata": {},
   "outputs": [],
   "source": [
    "def getDate(date):\n",
    "    year = date[-2:]\n",
    "    month = date[28:31];\n",
    "    arrayOfMonths = ['Jan', 'Feb','Mar','Apr','May','Jun','Jul','Aug','Sep','Oct','Nov','Dec']\n",
    "    intm = arrayOfMonths.index(month) + 1;\n",
    "    day = date[32:34];\n",
    "    #print(date[-2:] + '_' + str(intm).zfill(2) + '_' + day + \":\\t\" + date)\n",
    "    modifiedDateStr = date[-2:] +'_' + str(intm).zfill(2) + '_' + day\n",
    "    return modifiedDateStr"
   ]
  },
  {
   "cell_type": "code",
   "execution_count": 6,
   "metadata": {},
   "outputs": [],
   "source": [
    "def fixText(item):\n",
    "    item = item.replace('=\\n', '').replace('=2C', '').replace('=2E', '.').replace('=E2=80=9C', '').replace('=E2=80=9D','').replace('=E2=80=99','').replace('=E2=80=93 ', '')\n",
    "    item = item.replace('=E2=80=98', ' ').replace('=E2=80=99', ' ')\n",
    "    extras = { 'mart=c3=adn', 'win=e2=80=a6', 'win=e2=80=a6', 'yes=e2=80=a6', 'championships=e2=80=a6','=3d', '=e2=85=93', '=f0=9f=8c=8e', '=f0=9f=90=98', '=f0=9f=a4=af'}\n",
    "    for w in extras:\n",
    "        item = item.replace(w, ' ')\n",
    "    item = item.lower()\n",
    "    links = 0\n",
    "    text = item\n",
    "    while(links != -1):\n",
    "        links = text.find('(https://')\n",
    "        end = 0;\n",
    "        if(links != -1):\n",
    "            end = text.find(')', links)\n",
    "            text = text[:links] + text[end + 2:]\n",
    "    item = text.replace('(', ' ').replace(')',' ').replace('-',' ').replace('~', ' ').replace('*', ' ').replace('.', ' . ')\n",
    "    return item"
   ]
  },
  {
   "cell_type": "code",
   "execution_count": 13,
   "metadata": {},
   "outputs": [],
   "source": [
    "def writeMboxMessageToDocuments(em,index):\n",
    "    titleOfDoc = getDate(em.get_from())\n",
    "    \n",
    "    payload = em.get_payload()[0].as_string();\n",
    "    starts = [payload.find(docStarts[i]) for i in range(9) if payload.find(docStarts[i]) != -1]\n",
    "    starts.append(10000000)\n",
    "    ends = [payload.find(docEnd,starts[idx], starts[idx+1]) for idx in range(len(starts)-1)]\n",
    "    del starts[-1]\n",
    "    \n",
    "    ghettoDocs = []\n",
    "    for i in range(min(len(starts),8)):\n",
    "        s = starts[i] + 4\n",
    "        e = ends[i] + 1\n",
    "        ghet = payload[s:e]\n",
    "        ghettoDocs.append(ghet)\n",
    "\n",
    "    for i, item in enumerate(ghettoDocs):\n",
    "        ghettoDocs[i] = fixText(item) \n",
    "        \n",
    "    for i, doc in enumerate(ghettoDocs):\n",
    "        filename = abspath + str(index).rjust(4,'0') + '_' + titleOfDoc + '_' + str(i+1) + '.txt'\n",
    "        #print(filename)\n",
    "        docFile = open(filename, \"w+\")\n",
    "        docFile.write(doc)\n",
    "        docFile.close()\n",
    "        index += 1\n",
    "    return index"
   ]
  },
  {
   "cell_type": "code",
   "execution_count": 14,
   "metadata": {},
   "outputs": [
    {
     "name": "stdout",
     "output_type": "stream",
     "text": [
      "done\n"
     ]
    }
   ],
   "source": [
    "idx = 0\n",
    "for email in m.values():\n",
    "    idx = writeMboxMessageToDocuments(email,idx)\n",
    "print(\"done\")"
   ]
  },
  {
   "cell_type": "code",
   "execution_count": null,
   "metadata": {},
   "outputs": [],
   "source": []
  }
 ],
 "metadata": {
  "kernelspec": {
   "display_name": "Python 3",
   "language": "python",
   "name": "python3"
  },
  "language_info": {
   "codemirror_mode": {
    "name": "ipython",
    "version": 3
   },
   "file_extension": ".py",
   "mimetype": "text/x-python",
   "name": "python",
   "nbconvert_exporter": "python",
   "pygments_lexer": "ipython3",
   "version": "3.7.1"
  }
 },
 "nbformat": 4,
 "nbformat_minor": 2
}
