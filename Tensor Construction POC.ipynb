{
 "cells": [
  {
   "cell_type": "code",
   "execution_count": 2,
   "metadata": {},
   "outputs": [],
   "source": [
    "doc0 = ['abc', 'bcbcd', 'agebc', 'adebc']\n",
    "doc1 = ['fegd', 'fcgecd', 'fgged']\n",
    "doc2 = ['bacd', 'acabd', 'badce', 'fg']\n",
    "doc3 = ['gdefa', 'gbaccd', 'adefeg', 'gafedbc', 'bcbcd']\n",
    "docs = [doc0, doc1, doc2, doc3]\n",
    "docPairs = [0,0,0,0]"
   ]
  },
  {
   "cell_type": "code",
   "execution_count": 4,
   "metadata": {},
   "outputs": [
    {
     "data": {
      "text/plain": [
       "{'a': (0, 11),\n",
       " 'b': (1, 12),\n",
       " 'c': (2, 15),\n",
       " 'd': (3, 13),\n",
       " 'g': (4, 10),\n",
       " 'e': (5, 10),\n",
       " 'f': (6, 7)}"
      ]
     },
     "execution_count": 4,
     "metadata": {},
     "output_type": "execute_result"
    }
   ],
   "source": [
    "letterCounts = {}\n",
    "idx = 0\n",
    "for d in docs:\n",
    "    for s in d:\n",
    "        for i in s:\n",
    "            if i in letterCounts:\n",
    "                letterCounts[i] = (letterCounts[i][0], letterCounts[i][1] + 1)\n",
    "            else:\n",
    "                letterCounts[i] = (idx, 1)\n",
    "                idx += 1\n",
    "letterCounts"
   ]
  },
  {
   "cell_type": "code",
   "execution_count": 9,
   "metadata": {},
   "outputs": [
    {
     "data": {
      "text/plain": [
       "78"
      ]
     },
     "execution_count": 9,
     "metadata": {},
     "output_type": "execute_result"
    }
   ],
   "source": [
    "totalLetters = sum(v[1] for v in letterCounts.values())\n",
    "totalLetters"
   ]
  },
  {
   "cell_type": "code",
   "execution_count": 10,
   "metadata": {},
   "outputs": [],
   "source": [
    "tensor = {}\n",
    "for docNum,doc in enumerate(docs):\n",
    "    for s in doc:\n",
    "        for i in range(len(s) - 1):\n",
    "            for j in range(i + 1, len(s)):\n",
    "                key = (s[i], s[j], docNum)\n",
    "                docPairs[docNum] += 1\n",
    "                if key in tensor:\n",
    "                    tensor[key] += 1\n",
    "                else:\n",
    "                    tensor[key] = 1"
   ]
  },
  {
   "cell_type": "markdown",
   "metadata": {},
   "source": [
    "tensor now is an object that for every index (i,j,k) \n",
    "has the ABSOLUTE number of occurances of word J AFTER word I in document K\n",
    "These word pairs are only formed inside sentences. So if word I is the last word in sentence 1,\n",
    "and word J is the first word in sentence 2, then the absolute count isn't increased.\n",
    "however, if word I is the first word in sentence 1 and word J is the last word in sentence 1, \n",
    "then they are still counted\n",
    "\n",
    "Other methods include:\n",
    "\n",
    "1) only counting directly adjacent words\n",
    "\n",
    "2) giving a pair a fraction of a score based on word distance\n",
    "\n",
    "3) 2, but limit to only 5 (or 10 or 3 whatever it doesn't really matter) words\n",
    "\n",
    "4) 1, but with the constraints of 3\n",
    "\n",
    "5) More ways?"
   ]
  },
  {
   "cell_type": "code",
   "execution_count": 11,
   "metadata": {},
   "outputs": [
    {
     "data": {
      "text/plain": [
       "[33, 31, 27, 71]"
      ]
     },
     "execution_count": 11,
     "metadata": {},
     "output_type": "execute_result"
    }
   ],
   "source": [
    "docPairs"
   ]
  },
  {
   "cell_type": "code",
   "execution_count": 12,
   "metadata": {},
   "outputs": [
    {
     "data": {
      "text/plain": [
       "162"
      ]
     },
     "execution_count": 12,
     "metadata": {},
     "output_type": "execute_result"
    }
   ],
   "source": [
    "numPairs = sum(list(tensor.values()))\n",
    "numPairs #total number of pairs of words, on the order of n^2 sentences"
   ]
  },
  {
   "cell_type": "markdown",
   "metadata": {},
   "source": [
    "Moving on to Normalization:\n",
    "This is one of the ways I'm going to do it below, but there are many others that could possibly work better\n",
    "\n",
    "The way I'm going to do it now is by PMI: ln( p(x,y,z) / (p(x)p(y)p(z)) )\n",
    "\n",
    "p(x,y,z) is the probability of finding the pair x,y in document z\n",
    "    this is calculated by taking the number of pairs in document z, and then finding the proportion of the pair (x,y) in the total number of pairs in doc z\n",
    "    \n",
    "    p(x) is #occurances of word x/ # of occurances of all words\n",
    "    \n",
    "    p(y) is the same\n",
    "    \n",
    "    p(z) is just 1/#documents (i think)\n",
    "    \n",
    "properties of this normalization (before the ln):\n",
    "sum(p(x,y,z)) for a fixed z is 1\n",
    "\n",
    "Another PMI that could work:\n",
    "p(x,y,z)/p(x,y)p(x)p(y)\n",
    "\n",
    "p(x,y,z) is the same\n",
    "\n",
    "p(x,y) is the probability of finding pair (x,y) in all documents combined\n",
    "p(x),p(y) are the same"
   ]
  },
  {
   "cell_type": "code",
   "execution_count": 13,
   "metadata": {},
   "outputs": [],
   "source": [
    "from numpy import log as ln"
   ]
  },
  {
   "cell_type": "code",
   "execution_count": 18,
   "metadata": {},
   "outputs": [
    {
     "data": {
      "text/plain": [
       "{(0, 1, 0): 1.4327204579944421,\n",
       " (0, 2, 0): 1.2095769066802324,\n",
       " (1, 2, 0): 1.815712710250548,\n",
       " (1, 1, 0): 0.2470967923367026,\n",
       " (1, 3, 0): 0.8602012652231116,\n",
       " (2, 1, 0): 0.0239532410224928,\n",
       " (2, 2, 0): -0.19919031029171697,\n",
       " (2, 3, 0): 0.6370577139089019,\n",
       " (0, 4, 0): 0.516429726120287,\n",
       " (0, 5, 0): 1.2095769066802324,\n",
       " (4, 5, 0): 0.6117399059246121,\n",
       " (4, 1, 0): 0.42941834913065724,\n",
       " (4, 2, 0): 0.2062747978164476,\n",
       " (5, 1, 0): 1.1225655296906025,\n",
       " (5, 2, 0): 0.8994219783763929,\n",
       " (0, 3, 0): 0.2540654616527961,\n",
       " (3, 5, 0): 0.349375641457121,\n",
       " (3, 1, 0): 0.16705408466316624,\n",
       " (3, 2, 0): -0.05608946665104347,\n",
       " (6, 5, 1): 2.129547495512788,\n",
       " (6, 4, 1): 2.417229567964569,\n",
       " (6, 3, 1): 1.867183231045297,\n",
       " (5, 4, 1): 0.6742602629059461,\n",
       " (5, 3, 1): 1.5105082871065645,\n",
       " (4, 3, 1): 1.7981903595583455,\n",
       " (6, 2, 1): 1.318617279296459,\n",
       " (2, 4, 1): 0.2687951547977816,\n",
       " (2, 5, 1): 0.2687951547977816,\n",
       " (2, 2, 1): -0.13666995331038298,\n",
       " (2, 3, 1): 0.6995780708902358,\n",
       " (4, 5, 1): 1.7728725515740558,\n",
       " (4, 2, 1): 0.2687951547977816,\n",
       " (5, 2, 1): 0.2687951547977816,\n",
       " (4, 4, 1): 0.6742602629059461,\n",
       " (1, 0, 2): 1.2279260453484289,\n",
       " (1, 2, 2): 0.9177711170445892,\n",
       " (1, 3, 2): 1.466337068793427,\n",
       " (0, 2, 2): 1.4102476021423833,\n",
       " (0, 3, 2): 1.8410305182348377,\n",
       " (2, 3, 2): 0.837728409371053,\n",
       " (0, 0, 2): 0.6217902417781133,\n",
       " (0, 1, 2): 1.2279260453484289,\n",
       " (2, 0, 2): 0.3116353134742737,\n",
       " (2, 1, 2): 0.22462393648464396,\n",
       " (1, 5, 2): 0.6300890445928083,\n",
       " (0, 5, 2): 0.7171004215824381,\n",
       " (3, 2, 2): 0.1445812288111077,\n",
       " (3, 5, 2): 0.550046336919272,\n",
       " (2, 5, 2): 0.40694549327859875,\n",
       " (6, 4, 2): 1.1690855453254954,\n",
       " (4, 3, 3): 0.6818156145503954,\n",
       " (4, 5, 3): 0.5387147709097223,\n",
       " (4, 6, 3): 0.8953897148484544,\n",
       " (4, 0, 3): 0.8488696992135615,\n",
       " (3, 5, 3): 0.6818156145503954,\n",
       " (3, 6, 3): 0.6330254503809634,\n",
       " (3, 0, 3): -0.5121068539220391,\n",
       " (5, 6, 3): 0.8953897148484544,\n",
       " (5, 0, 3): -0.2497425894545481,\n",
       " (6, 0, 3): 0.10693235448418431,\n",
       " (4, 1, 3): 0.3563932141157674,\n",
       " (4, 2, 3): 0.5387147709097221,\n",
       " (1, 0, 3): -0.4320641462485027,\n",
       " (1, 2, 3): 1.0495403946757127,\n",
       " (1, 3, 3): 0.49949405775644073,\n",
       " (0, 2, 3): 0.4434045911053972,\n",
       " (0, 3, 3): 0.5865054347460704,\n",
       " (2, 2, 3): -0.27221544530660685,\n",
       " (2, 3, 3): 0.5640325788940119,\n",
       " (0, 5, 3): 0.8488696992135615,\n",
       " (0, 6, 3): 0.8000795350441297,\n",
       " (0, 4, 3): -0.2497425894545481,\n",
       " (3, 4, 3): -0.4167966741177142,\n",
       " (5, 5, 3): -0.15443240965022298,\n",
       " (5, 4, 3): 0.5387147709097223,\n",
       " (6, 5, 3): 0.8953897148484544,\n",
       " (6, 4, 3): 0.20224253428850916,\n",
       " (0, 1, 3): -0.4320641462485027,\n",
       " (6, 3, 3): -0.060121730178981925,\n",
       " (6, 1, 3): 0.01992097749455435,\n",
       " (6, 2, 3): -0.20322257381965542,\n",
       " (5, 3, 3): -0.4167966741177142,\n",
       " (5, 1, 3): -0.3367539664441779,\n",
       " (5, 2, 3): -0.5598975177583876,\n",
       " (3, 1, 3): -0.5991182309116689,\n",
       " (3, 2, 3): -0.8222617822258786,\n",
       " (1, 1, 3): -0.5190755232381326,\n",
       " (2, 1, 3): -0.7422190745523424}"
      ]
     },
     "execution_count": 18,
     "metadata": {},
     "output_type": "execute_result"
    }
   ],
   "source": [
    "sumNums = [0,0,0,0];\n",
    "normTensor = {};\n",
    "for k in tensor.keys():\n",
    "    v = tensor[k] #number of times the pair w1,w2 showed up in the document\n",
    "    w1 = k[0]\n",
    "    w2 = k[1]\n",
    "    d = k[2];\n",
    "    #p(x,y)\n",
    "    numerator = v/docPairs[d]\n",
    "    #p(x)p(y)\n",
    "    pw1 = letterCounts[w1][1]/totalLetters\n",
    "    pw2 = letterCounts[w2][1]/totalLetters\n",
    "    denominator = pw1 * pw2\n",
    "    newKey = (letterCounts[k[0]][0],letterCounts[k[1]][0], k[2])\n",
    "    normTensor[newKey] = ln(numerator/denominator)\n",
    "    sumNums[d] += numerator\n",
    "normTensor"
   ]
  },
  {
   "cell_type": "code",
   "execution_count": 19,
   "metadata": {},
   "outputs": [
    {
     "data": {
      "text/plain": [
       "[0.9999999999999996,\n",
       " 0.9999999999999999,\n",
       " 0.9999999999999996,\n",
       " 0.9999999999999996]"
      ]
     },
     "execution_count": 19,
     "metadata": {},
     "output_type": "execute_result"
    }
   ],
   "source": [
    "sumNums #should be all 1's"
   ]
  },
  {
   "cell_type": "code",
   "execution_count": null,
   "metadata": {},
   "outputs": [],
   "source": []
  }
 ],
 "metadata": {
  "kernelspec": {
   "display_name": "Python 3",
   "language": "python",
   "name": "python3"
  },
  "language_info": {
   "codemirror_mode": {
    "name": "ipython",
    "version": 3
   },
   "file_extension": ".py",
   "mimetype": "text/x-python",
   "name": "python",
   "nbconvert_exporter": "python",
   "pygments_lexer": "ipython3",
   "version": "3.7.1"
  }
 },
 "nbformat": 4,
 "nbformat_minor": 2
}
