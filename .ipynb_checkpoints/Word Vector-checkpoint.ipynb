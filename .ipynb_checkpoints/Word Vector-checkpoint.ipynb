{
 "cells": [
  {
   "cell_type": "code",
   "execution_count": 1,
   "metadata": {},
   "outputs": [],
   "source": [
    "sentences = '''\n",
    "trevor plays quarterback at clemson university. jake plays quarterback at university of georgia.\n",
    "trevor and jake both have good arm strength and accuracy. georgia is a public research university.\n",
    "clemson is a public research univeristy. georgia has a good college football team.\n",
    "clemson has a good college football team. clemson is in carolina.\n",
    "'''.split('.')[:-1]\n",
    "stop_words = {'a', 'able', 'about', 'across', 'after', 'all', 'almost', 'also', 'am', 'among', 'an', 'and', 'any',\n",
    "              'are', 'as', 'at', 'be', 'because', 'been', 'but', 'by', 'can', 'cannot', 'could', 'dear', 'did',\n",
    "              'do', 'does', 'either', 'else', 'ever', 'every', 'for', 'from', 'get', 'got', 'had', 'has', 'have',\n",
    "              'he', 'her', 'hers', 'him', 'his', 'how', 'however', 'i', 'if', 'in', 'into', 'is', 'it', 'its',\n",
    "              'just', 'least', 'let', 'like', 'likely', 'may', 'me', 'might', 'most', 'must', 'my', 'neither',\n",
    "              'no', 'nor', 'not', 'of', 'off', 'often', 'on', 'only', 'or', 'other', 'our', 'own', 'rather',\n",
    "              'said', 'say', 'says', 'she', 'should', 'since', 'so', 'some', 'than', 'that', 'the', 'their',\n",
    "              'them', 'then', 'there', 'these', 'they', 'this', 'tis', 'to', 'too', 'twas', 'us', 'wants',\n",
    "              'was', 'we', 'were', 'what', 'when', 'where', 'which', 'while', 'who', 'whom', 'why', 'will',\n",
    "              'with', 'would', 'yet', 'you', 'your'}"
   ]
  },
  {
   "cell_type": "code",
   "execution_count": 2,
   "metadata": {},
   "outputs": [],
   "source": [
    "for i,s in enumerate(sentences):\n",
    "    sentences[i] = s.lower()\n",
    "    nSen = ''\n",
    "    for w in sentences[i].split():\n",
    "        if w not in stop_words:\n",
    "            nSen += (w + \" \")\n",
    "    sentences[i] = nSen"
   ]
  },
  {
   "cell_type": "code",
   "execution_count": 3,
   "metadata": {},
   "outputs": [],
   "source": [
    "all_words_f = {word:0 for sentence in sentences for word in sentence.split()}\n",
    "# for sentence in sentences:\n",
    "#     for word in sentence.split():\n",
    "#         word\n",
    "for sentence in sentences:\n",
    "    for word in sentence.split():\n",
    "        all_words_f[word] = all_words_f[word] + 1\n",
    "words = list(all_words_f.keys())\n",
    "# all_words_f"
   ]
  },
  {
   "cell_type": "code",
   "execution_count": 4,
   "metadata": {},
   "outputs": [],
   "source": [
    "n = len(words)\n",
    "word_frequencies = [[0]*n for _ in range(n)]"
   ]
  },
  {
   "cell_type": "code",
   "execution_count": 5,
   "metadata": {},
   "outputs": [],
   "source": [
    "#create a co-occurance matrix\n",
    "for sen in sentences:\n",
    "    w = sen.split()\n",
    "    for i in range (len(w)):\n",
    "        for j in range (len(w)):\n",
    "            if i != j:\n",
    "                w1 = w[i]\n",
    "                w2 = w[j]\n",
    "                j = words.index(w1)\n",
    "                k = words.index(w2)\n",
    "                word_frequencies[j][k] += 1\n",
    "# word_frequencies"
   ]
  },
  {
   "cell_type": "code",
   "execution_count": 6,
   "metadata": {},
   "outputs": [],
   "source": [
    "from math import log\n",
    "for i in range (n):\n",
    "    for j in range (n):\n",
    "        f = word_frequencies[i][j]\n",
    "        if f != 0:\n",
    "            pi = all_words_f[words[i]]\n",
    "            pj = all_words_f[words[j]]\n",
    "            denom = (pi*pj)\n",
    "            word_frequencies[i][j] = f/denom\n",
    "            \n",
    "for i in range(n):\n",
    "    s = sum(word_frequencies[i][j]**2 for j in range(n))**0.5\n",
    "    for j in range(n):\n",
    "        word_frequencies[i][j] /= s"
   ]
  },
  {
   "cell_type": "code",
   "execution_count": 7,
   "metadata": {},
   "outputs": [],
   "source": [
    "def vec(item):\n",
    "    return word_frequencies[words.index(item)] \n",
    "\n",
    "def dot(a, b):\n",
    "    return sum(a[i] * b[i] for i in range(len(a)))\n",
    "\n",
    "def norm(a):\n",
    "    return (sum(i**2 for i in a))**(1/2)\n",
    "\n",
    "def unit(a):\n",
    "    n = norm(a)\n",
    "    return [a[i]/n for i in range(len(a))]\n",
    "\n",
    "def sim(a: list, b: list):\n",
    "    return dot(a,b)/(norm(a)*norm(b))\n",
    "    #1 means similar, 0 means unrelated, -1 means related, but opposite\n",
    "    \n",
    "def dist(a, b):\n",
    "    return sum((a[i] - b[i])**2 for i in range(len(a)))**(1/2)\n",
    "\n",
    "def simWords(a: str, b: str):\n",
    "    return dist(vec(a), vec(b))\n",
    "\n",
    "def sub(a, b):\n",
    "    return [(a[i] - b[i]) for i in range(len(a))]\n",
    "\n",
    "def add(a,b):\n",
    "    return [(a[i] + b[i]) for i in range(len(a))]\n",
    "\n",
    "def findSimilarWord(v):\n",
    "    sims = []\n",
    "    for i,w in enumerate(word_frequencies):\n",
    "        sims.append((words[i], dist(v,w)))\n",
    "    return sorted(sims, key = lambda x: x[1])"
   ]
  },
  {
   "cell_type": "code",
   "execution_count": 8,
   "metadata": {},
   "outputs": [],
   "source": [
    "d = add(sub(vec('jake'), vec('georgia')), vec('clemson'))"
   ]
  },
  {
   "cell_type": "code",
   "execution_count": 9,
   "metadata": {},
   "outputs": [
    {
     "data": {
      "text/plain": [
       "[('jake', 0.8553032084898258),\n",
       " ('trevor', 1.0548535916637538),\n",
       " ('both', 1.0828848114449792),\n",
       " ('arm', 1.0828848114449792),\n",
       " ('strength', 1.0828848114449792),\n",
       " ('accuracy', 1.0828848114449792),\n",
       " ('good', 1.2115164538215988),\n",
       " ('clemson', 1.239994003810157),\n",
       " ('public', 1.455593675403409),\n",
       " ('research', 1.455593675403409),\n",
       " ('university', 1.5003430462236),\n",
       " ('plays', 1.5508420858976524),\n",
       " ('quarterback', 1.5508420858976524),\n",
       " ('carolina', 1.639768290278636),\n",
       " ('college', 1.648000536580335),\n",
       " ('football', 1.648000536580335),\n",
       " ('team', 1.648000536580335),\n",
       " ('univeristy', 1.6952911306051741),\n",
       " ('georgia', 1.719874633146688)]"
      ]
     },
     "execution_count": 9,
     "metadata": {},
     "output_type": "execute_result"
    }
   ],
   "source": [
    "findSimilarWord(d)"
   ]
  },
  {
   "cell_type": "code",
   "execution_count": 10,
   "metadata": {},
   "outputs": [
    {
     "data": {
      "text/plain": [
       "[('clemson', 1.0),\n",
       " ('public', 1.1366051037391292),\n",
       " ('research', 1.1366051037391292),\n",
       " ('carolina', 1.3158812934505115),\n",
       " ('jake', 1.332008675310585),\n",
       " ('both', 1.3357865515649796),\n",
       " ('arm', 1.3357865515649796),\n",
       " ('strength', 1.3357865515649796),\n",
       " ('accuracy', 1.3357865515649796),\n",
       " ('good', 1.3809468858477174),\n",
       " ('univeristy', 1.3844549650162836),\n",
       " ('college', 1.3933248353405223),\n",
       " ('football', 1.3933248353405223),\n",
       " ('team', 1.3933248353405223),\n",
       " ('university', 1.4110651944788888),\n",
       " ('trevor', 1.4220727370646948),\n",
       " ('plays', 1.4519389184136782),\n",
       " ('quarterback', 1.4519389184136782),\n",
       " ('georgia', 1.5694225552431638)]"
      ]
     },
     "execution_count": 10,
     "metadata": {},
     "output_type": "execute_result"
    }
   ],
   "source": [
    "d = sub(vec('clemson'), vec('georgia'))\n",
    "findSimilarWord(d)"
   ]
  },
  {
   "cell_type": "code",
   "execution_count": 11,
   "metadata": {},
   "outputs": [
    {
     "data": {
      "text/plain": [
       "[0.3435590005883209,\n",
       " 0.6871180011766418,\n",
       " 0.0,\n",
       " 0.17177950029416045,\n",
       " 0.4580786674510945,\n",
       " 0.3435590005883209,\n",
       " 0.22903933372554725,\n",
       " 0.0,\n",
       " 0.0,\n",
       " 0.0,\n",
       " 0.0,\n",
       " 0.0,\n",
       " 0.0,\n",
       " 0.0,\n",
       " 0.0,\n",
       " 0.0,\n",
       " 0.0,\n",
       " 0.0,\n",
       " 0.0]"
      ]
     },
     "execution_count": 11,
     "metadata": {},
     "output_type": "execute_result"
    }
   ],
   "source": [
    "vec('quarterback')"
   ]
  },
  {
   "cell_type": "code",
   "execution_count": 12,
   "metadata": {},
   "outputs": [
    {
     "data": {
      "text/plain": [
       "[0.2433321316961438,\n",
       " 0.2433321316961438,\n",
       " 0.2433321316961438,\n",
       " 0.0,\n",
       " 0.16222142113076252,\n",
       " 0.0,\n",
       " 0.0,\n",
       " 0.0,\n",
       " 0.16222142113076252,\n",
       " 0.0,\n",
       " 0.0,\n",
       " 0.0,\n",
       " 0.2433321316961438,\n",
       " 0.2433321316961438,\n",
       " 0.4866642633922876,\n",
       " 0.2433321316961438,\n",
       " 0.2433321316961438,\n",
       " 0.2433321316961438,\n",
       " 0.4866642633922876]"
      ]
     },
     "execution_count": 12,
     "metadata": {},
     "output_type": "execute_result"
    }
   ],
   "source": [
    "vec('clemson')"
   ]
  },
  {
   "cell_type": "code",
   "execution_count": 13,
   "metadata": {},
   "outputs": [],
   "source": [
    "e = add(vec('clemson'), vec('quarterback'))"
   ]
  },
  {
   "cell_type": "code",
   "execution_count": 14,
   "metadata": {},
   "outputs": [
    {
     "data": {
      "text/plain": [
       "[('clemson', 0.9999999999999999),\n",
       " ('quarterback', 1.0),\n",
       " ('georgia', 1.164027720503983),\n",
       " ('university', 1.1962288484326726),\n",
       " ('plays', 1.39436806298838),\n",
       " ('public', 1.500960380629044),\n",
       " ('research', 1.500960380629044),\n",
       " ('jake', 1.6031814482703144),\n",
       " ('good', 1.643517960116575),\n",
       " ('trevor', 1.64414323985247),\n",
       " ('college', 1.6635917617459146),\n",
       " ('football', 1.6635917617459146),\n",
       " ('team', 1.6635917617459146),\n",
       " ('univeristy', 1.699061110531548),\n",
       " ('both', 1.7617229404827688),\n",
       " ('arm', 1.7617229404827688),\n",
       " ('strength', 1.7617229404827688),\n",
       " ('accuracy', 1.7617229404827688),\n",
       " ('carolina', 1.8184210205885214)]"
      ]
     },
     "execution_count": 14,
     "metadata": {},
     "output_type": "execute_result"
    }
   ],
   "source": [
    "findSimilarWord(e)"
   ]
  }
 ],
 "metadata": {
  "kernelspec": {
   "display_name": "Python 3",
   "language": "python",
   "name": "python3"
  },
  "language_info": {
   "codemirror_mode": {
    "name": "ipython",
    "version": 3
   },
   "file_extension": ".py",
   "mimetype": "text/x-python",
   "name": "python",
   "nbconvert_exporter": "python",
   "pygments_lexer": "ipython3",
   "version": "3.7.5"
  }
 },
 "nbformat": 4,
 "nbformat_minor": 2
}
