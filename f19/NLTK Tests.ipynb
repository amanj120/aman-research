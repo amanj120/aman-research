{
 "cells": [
  {
   "cell_type": "code",
   "execution_count": 7,
   "metadata": {},
   "outputs": [],
   "source": [
    "import nltk"
   ]
  },
  {
   "cell_type": "code",
   "execution_count": 11,
   "metadata": {},
   "outputs": [
    {
     "name": "stderr",
     "output_type": "stream",
     "text": [
      "[nltk_data] Downloading package punkt to\n",
      "[nltk_data]     C:\\Users\\amanj\\AppData\\Roaming\\nltk_data...\n",
      "[nltk_data]   Package punkt is already up-to-date!\n",
      "[nltk_data] Downloading package averaged_perceptron_tagger to\n",
      "[nltk_data]     C:\\Users\\amanj\\AppData\\Roaming\\nltk_data...\n",
      "[nltk_data]   Unzipping taggers\\averaged_perceptron_tagger.zip.\n"
     ]
    },
    {
     "data": {
      "text/plain": [
       "True"
      ]
     },
     "execution_count": 11,
     "metadata": {},
     "output_type": "execute_result"
    }
   ],
   "source": [
    "nltk.download('punkt')\n",
    "nltk.download('averaged_perceptron_tagger')"
   ]
  },
  {
   "cell_type": "code",
   "execution_count": 12,
   "metadata": {},
   "outputs": [
    {
     "data": {
      "text/plain": [
       "['He', 'and', 'I', 'were', 'both', 'skiing', 'in', 'the', 'dark', '.']"
      ]
     },
     "execution_count": 12,
     "metadata": {},
     "output_type": "execute_result"
    }
   ],
   "source": [
    "t = nltk.word_tokenize(\"He and I were both skiing in the dark.\")\n",
    "t"
   ]
  },
  {
   "cell_type": "code",
   "execution_count": 14,
   "metadata": {},
   "outputs": [
    {
     "data": {
      "text/plain": [
       "[('He', 'PRP'),\n",
       " ('and', 'CC'),\n",
       " ('I', 'PRP'),\n",
       " ('were', 'VBD'),\n",
       " ('both', 'DT'),\n",
       " ('skiing', 'VBG'),\n",
       " ('in', 'IN'),\n",
       " ('the', 'DT'),\n",
       " ('dark', 'NN'),\n",
       " ('.', '.')]"
      ]
     },
     "execution_count": 14,
     "metadata": {},
     "output_type": "execute_result"
    }
   ],
   "source": [
    "pos = nltk.pos_tag(t)\n",
    "pos"
   ]
  },
  {
   "cell_type": "code",
   "execution_count": 15,
   "metadata": {},
   "outputs": [
    {
     "data": {
      "text/plain": [
       "[('Donald', 'NNP'),\n",
       " ('Trump', 'NNP'),\n",
       " ('issued', 'VBD'),\n",
       " ('sanctions', 'NNS'),\n",
       " ('on', 'IN'),\n",
       " ('China', 'NNP'),\n",
       " ('following', 'VBG'),\n",
       " ('violent', 'JJ'),\n",
       " ('protests', 'NNS'),\n",
       " ('in', 'IN'),\n",
       " ('Hong', 'NNP'),\n",
       " ('Kong', 'NNP')]"
      ]
     },
     "execution_count": 15,
     "metadata": {},
     "output_type": "execute_result"
    }
   ],
   "source": [
    "t = nltk.word_tokenize(\"Donald Trump issued sanctions on China following violent protests in Hong Kong\")\n",
    "pos = nltk.pos_tag(t)\n",
    "pos"
   ]
  },
  {
   "cell_type": "code",
   "execution_count": 18,
   "metadata": {},
   "outputs": [],
   "source": [
    "sample = \"Louisiana Governor John Bel Edwards won reelection (with ~51% of the vote) remaining the only Democratic governor in the Deep South. The off-cycle election drew significant national party support (including a rally from President Trump) and followed similarly contested gubernatorial elections in Kentucky (successfully swung by a Democrat) and Mississipi (successfully defended by a Republican).\""
   ]
  },
  {
   "cell_type": "code",
   "execution_count": 19,
   "metadata": {},
   "outputs": [
    {
     "data": {
      "text/plain": [
       "[('Louisiana', 'NNP'),\n",
       " ('Governor', 'NNP'),\n",
       " ('John', 'NNP'),\n",
       " ('Bel', 'NNP'),\n",
       " ('Edwards', 'NNP'),\n",
       " ('won', 'VBD'),\n",
       " ('reelection', 'NN'),\n",
       " ('(', '('),\n",
       " ('with', 'IN'),\n",
       " ('~51', 'NNP'),\n",
       " ('%', 'NN'),\n",
       " ('of', 'IN'),\n",
       " ('the', 'DT'),\n",
       " ('vote', 'NN'),\n",
       " (')', ')'),\n",
       " ('remaining', 'VBG'),\n",
       " ('the', 'DT'),\n",
       " ('only', 'JJ'),\n",
       " ('Democratic', 'JJ'),\n",
       " ('governor', 'NN'),\n",
       " ('in', 'IN'),\n",
       " ('the', 'DT'),\n",
       " ('Deep', 'NNP'),\n",
       " ('South', 'NNP'),\n",
       " ('.', '.'),\n",
       " ('The', 'DT'),\n",
       " ('off-cycle', 'JJ'),\n",
       " ('election', 'NN'),\n",
       " ('drew', 'VBD'),\n",
       " ('significant', 'JJ'),\n",
       " ('national', 'JJ'),\n",
       " ('party', 'NN'),\n",
       " ('support', 'NN'),\n",
       " ('(', '('),\n",
       " ('including', 'VBG'),\n",
       " ('a', 'DT'),\n",
       " ('rally', 'NN'),\n",
       " ('from', 'IN'),\n",
       " ('President', 'NNP'),\n",
       " ('Trump', 'NNP'),\n",
       " (')', ')'),\n",
       " ('and', 'CC'),\n",
       " ('followed', 'VBD'),\n",
       " ('similarly', 'RB'),\n",
       " ('contested', 'VBN'),\n",
       " ('gubernatorial', 'JJ'),\n",
       " ('elections', 'NNS'),\n",
       " ('in', 'IN'),\n",
       " ('Kentucky', 'NNP'),\n",
       " ('(', '('),\n",
       " ('successfully', 'RB'),\n",
       " ('swung', 'VBN'),\n",
       " ('by', 'IN'),\n",
       " ('a', 'DT'),\n",
       " ('Democrat', 'NNP'),\n",
       " (')', ')'),\n",
       " ('and', 'CC'),\n",
       " ('Mississipi', 'NNP'),\n",
       " ('(', '('),\n",
       " ('successfully', 'RB'),\n",
       " ('defended', 'VBN'),\n",
       " ('by', 'IN'),\n",
       " ('a', 'DT'),\n",
       " ('Republican', 'NNP'),\n",
       " (')', ')'),\n",
       " ('.', '.')]"
      ]
     },
     "execution_count": 19,
     "metadata": {},
     "output_type": "execute_result"
    }
   ],
   "source": [
    "t = nltk.word_tokenize(sample)\n",
    "pos = nltk.pos_tag(t)\n",
    "pos"
   ]
  },
  {
   "cell_type": "code",
   "execution_count": 29,
   "metadata": {},
   "outputs": [
    {
     "data": {
      "text/plain": [
       "[('He', 'PRP'),\n",
       " ('tried', 'VBD'),\n",
       " ('super', 'JJ'),\n",
       " ('hard', 'RB'),\n",
       " ('but', 'CC'),\n",
       " ('all', 'DT'),\n",
       " ('of', 'IN'),\n",
       " ('a', 'DT'),\n",
       " ('sudden', 'JJ'),\n",
       " ('he', 'PRP'),\n",
       " ('fell', 'VBD'),\n",
       " ('like', 'IN'),\n",
       " ('a', 'DT'),\n",
       " ('sack', 'NN'),\n",
       " ('of', 'IN'),\n",
       " ('potatoes', 'NNS')]"
      ]
     },
     "execution_count": 29,
     "metadata": {},
     "output_type": "execute_result"
    }
   ],
   "source": [
    "new_text = \"He tried super hard but all of a sudden he fell like a sack of potatoes\"\n",
    "t = nltk.word_tokenize(new_text)\n",
    "pos = nltk.pos_tag(t)\n",
    "pos"
   ]
  },
  {
   "cell_type": "code",
   "execution_count": null,
   "metadata": {},
   "outputs": [],
   "source": []
  }
 ],
 "metadata": {
  "kernelspec": {
   "display_name": "Python 3",
   "language": "python",
   "name": "python3"
  },
  "language_info": {
   "codemirror_mode": {
    "name": "ipython",
    "version": 3
   },
   "file_extension": ".py",
   "mimetype": "text/x-python",
   "name": "python",
   "nbconvert_exporter": "python",
   "pygments_lexer": "ipython3",
   "version": "3.7.5"
  }
 },
 "nbformat": 4,
 "nbformat_minor": 2
}
