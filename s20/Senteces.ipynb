{
 "cells": [
  {
   "cell_type": "code",
   "execution_count": 41,
   "metadata": {},
   "outputs": [],
   "source": [
    "import nltk\n",
    "#nltk.download('stopwords') #only need to run this once really\n",
    "from nltk.corpus import stopwords"
   ]
  },
  {
   "cell_type": "code",
   "execution_count": 42,
   "metadata": {},
   "outputs": [
    {
     "name": "stdout",
     "output_type": "stream",
     "text": [
      "<_io.TextIOWrapper name='chpt1.txt' mode='r' encoding='UTF-8'>\n"
     ]
    }
   ],
   "source": [
    "f = open('chpt1.txt', 'r')\n",
    "print(f)\n",
    "text = f.read().replace('\\n', ' ').lower()\n",
    "sw = set(stopwords.words('english'))"
   ]
  },
  {
   "cell_type": "code",
   "execution_count": 45,
   "metadata": {},
   "outputs": [
    {
     "data": {
      "text/plain": [
       "['best times, worst times, age wisdom, age foolishness, epoch belief, epoch incredulity, season light, season darkness, spring hope, winter despair, everything us, nothing us, going direct heaven, going direct way-- short, period far like present period, noisiest authorities insisted received, good evil, superlative degree comparison ',\n",
       " '  king large jaw queen plain face, throne england; king large jaw queen fair face, throne france ',\n",
       " ' countries clearer crystal lords state preserves loaves fishes, things general settled ever ',\n",
       " '  year lord one thousand seven hundred seventy-five ',\n",
       " ' spiritual revelations conceded england favoured period, ',\n",
       " ' mrs southcott recently attained five-and-twentieth blessed birthday, prophetic private life guards heralded sublime appearance announcing arrangements made swallowing london westminster ',\n",
       " ' even cock-lane ghost laid round dozen years, rapping messages, spirits year last past (supernaturally deficient originality) rapped ',\n",
       " ' mere messages earthly order events lately come english crown people, congress british subjects america: which, strange relate, proved important human race communications yet received chickens cock-lane brood ',\n",
       " '  france, less favoured whole matters spiritual sister shield trident, rolled exceeding smoothness hill, making paper money spending ',\n",
       " ' guidance christian pastors, entertained herself, besides, humane achievements sentencing youth hands cut off, tongue torn pincers, body burned alive, kneeled rain honour dirty procession monks passed within view, distance fifty sixty yards ',\n",
       " ' likely enough that, rooted woods france norway, growing trees, sufferer put death, already marked woodman, fate, come sawn boards, make certain movable framework sack knife it, terrible history ',\n",
       " ' likely enough rough outhouses tillers heavy lands adjacent paris, sheltered weather day, rude carts, bespattered rustic mire, snuffed pigs, roosted poultry, farmer, death, already set apart tumbrils revolution ',\n",
       " ' woodman farmer, though work unceasingly, work silently, one heard went muffled tread: rather, forasmuch entertain suspicion awake, atheistical traitorous ',\n",
       " '  england, scarcely amount order protection justify much national boasting ',\n",
       " \" daring burglaries armed men, highway robberies, took place capital every night; families publicly cautioned go town without removing furniture upholsterers' warehouses security; highwayman dark city tradesman light, and, recognised challenged fellow-tradesman stopped character “the captain,” gallantly shot head rode away; mail waylaid seven robbers, guard shot three dead, got shot dead four, “in consequence failure ammunition:” mail robbed peace; magnificent potentate, lord mayor london, made stand deliver turnham green, one highwayman, despoiled illustrious creature sight retinue; prisoners london gaols fought battles turnkeys, majesty law fired blunderbusses among them, loaded rounds shot ball; thieves snipped diamond crosses necks noble lords court drawing-rooms; musketeers went st \",\n",
       " \" giles's, search contraband goods, mob fired musketeers, musketeers fired mob, nobody thought occurrences much common way \",\n",
       " \" midst them, hangman, ever busy ever worse useless, constant requisition; now, stringing long rows miscellaneous criminals; now, hanging housebreaker saturday taken tuesday; now, burning people hand newgate dozen, burning pamphlets door westminster hall; to-day, taking life atrocious murderer, to-morrow wretched pilferer robbed farmer's boy sixpence \",\n",
       " '  things, thousand like them, came pass close upon dear old year one thousand seven hundred seventy-five ',\n",
       " ' environed them, woodman farmer worked unheeded, two large jaws, two plain fair faces, trod stir enough, carried divine rights high hand ',\n",
       " ' thus year one thousand seven hundred seventy-five conduct greatnesses, myriads small creatures--the creatures chronicle among rest--along roads lay ',\n",
       " ' ']"
      ]
     },
     "execution_count": 45,
     "metadata": {},
     "output_type": "execute_result"
    }
   ],
   "source": [
    "sentences = text.split('.')\n",
    "wo_stopwords = []\n",
    "for s in sentences:\n",
    "    temp = \"\"\n",
    "    words = s.split(\" \")\n",
    "    for w in words:\n",
    "        if w not in sw:\n",
    "            temp += w\n",
    "            temp += \" \"\n",
    "#     print(temp)\n",
    "    wo_stopwords.append(temp)\n",
    "wo_stopwords"
   ]
  },
  {
   "cell_type": "code",
   "execution_count": null,
   "metadata": {},
   "outputs": [],
   "source": []
  }
 ],
 "metadata": {
  "kernelspec": {
   "display_name": "Python 3",
   "language": "python",
   "name": "python3"
  },
  "language_info": {
   "codemirror_mode": {
    "name": "ipython",
    "version": 3
   },
   "file_extension": ".py",
   "mimetype": "text/x-python",
   "name": "python",
   "nbconvert_exporter": "python",
   "pygments_lexer": "ipython3",
   "version": "3.7.5"
  }
 },
 "nbformat": 4,
 "nbformat_minor": 2
}
