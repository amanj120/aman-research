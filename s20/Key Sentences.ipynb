{
  "nbformat": 4,
  "nbformat_minor": 0,
  "metadata": {
    "colab": {
      "name": "Key Sentences Extractor.ipynb",
      "provenance": []
    },
    "kernelspec": {
      "name": "python3",
      "display_name": "Python 3"
    }
  },
  "cells": [
    {
      "cell_type": "markdown",
      "metadata": {
        "id": "F9DgWIuek1y7",
        "colab_type": "text"
      },
      "source": [
        "# Key Sentences Extractor\n",
        "Implementation of the algorithm described in Chapter 13 of \"Matrix methods in data mining and pattern recognition” by Lars Eldén "
      ]
    },
    {
      "cell_type": "code",
      "metadata": {
        "id": "tq0ukcXUmAMM",
        "colab_type": "code",
        "outputId": "a471eb3f-a8b1-416b-88bb-70ebd0822dba",
        "colab": {
          "base_uri": "https://localhost:8080/",
          "height": 68
        }
      },
      "source": [
        "import sys\n",
        "import re\n",
        "import nltk\n",
        "import numpy as np\n",
        "import re\n",
        "import matplotlib.pylab as plt\n",
        "from nltk.corpus import stopwords\n",
        "from nltk.stem import PorterStemmer\n",
        "from collections import Counter\n",
        "\n",
        "nltk.download('stopwords')"
      ],
      "execution_count": 0,
      "outputs": [
        {
          "output_type": "stream",
          "text": [
            "[nltk_data] Downloading package stopwords to /root/nltk_data...\n",
            "[nltk_data]   Package stopwords is already up-to-date!\n"
          ],
          "name": "stdout"
        },
        {
          "output_type": "execute_result",
          "data": {
            "text/plain": [
              "True"
            ]
          },
          "metadata": {
            "tags": []
          },
          "execution_count": 90
        }
      ]
    },
    {
      "cell_type": "code",
      "metadata": {
        "id": "7lvNnVz3kvTA",
        "colab_type": "code",
        "colab": {}
      },
      "source": [
        "# The paragraph we want to analyse\n",
        "original_small = \"October arrived, spreading a damp chill over the grounds and into the castle. Madam Pomfrey, the nurse, was kept busy by a sudden spate of colds among the staff and students. Her Pepperup potion worked instantly, though it left the drinker smoking at the ears for several hours afterward. Ginny Weasley, who had been looking pale, was bullied into taking some by Percy. The steam pouring from under her vivid hair gave the impression that her whole head was on fire. Raindrops the size of bullets thundered on the castle windows for days on end; the lake rose, the flower beds turned into muddy streams, and Hagrid's pumpkins swelled to the size of garden sheds. Oliver Wood's enthusiasm for regular training sessions, however, was not dampened, which was why Harry was to be found, late one stormy Saturday afternoon a few days before Halloween, returning to Gryffindor Tower, drenched to the skin and splattered with mud. Even aside from the rain and wind it hadn't been a happy practice session. Fred and George, who had been spying on the Slytherin team, had seen for themselves the speed of those new Nimbus Two Thousand and Ones. They reported that the Slytherin team was no more than seven greenish blurs, shooting through the air like missiles.\""
      ],
      "execution_count": 0,
      "outputs": []
    },
    {
      "cell_type": "code",
      "metadata": {
        "id": "N9ENvoDeV-B9",
        "colab_type": "code",
        "colab": {}
      },
      "source": [
        "original = \"\"\"\n",
        "Mr. and Mrs. Dursley, of number four, Privet Drive, were proud to say that they were perfectly normal, thank you very much. They were the last people you'd expect to be involved in anything strange or mysterious, because they just didn't hold with such nonsense. Mr. Dursley was the director of a firm called Grunnings, which made drills. He was a big, beefy man with hardly any neck, although he did have a very large mustache. Mrs. Dursley was thin and blonde and had nearly twice the usual amount of neck, which came in very useful as she spent so much of her time craning over garden fences, spying on the neighbors. The Dursleys had a small son called Dudley and in their opinion there was no finer boy anywhere. The Dursleys had everything they wanted, but they also had a secret, and their greatest fear was that somebody would discover it. They didn't think they could bear it if anyone found out about the Potters. Mrs. Potter was Mrs. Dursley's sister, but they hadn't met for several years; in fact, Mrs. Dursley pretended she didn't have a sister, because her sister and her good-for-nothing husband were as unDursleyish as it was possible to be. The Dursleys shuddered to think what the neighbors would say if the Potters arrived in the street. The Dursleys knew that the Potters had a small son, too, but they had never even seen him. This boy was another good reason for keeping the Potters away; they didn't want Dudley mixing with a child like that. When Mr. and Mrs. Dursley woke up on the dull, gray Tuesday our story starts, there was nothing about the cloudy sky outside to suggest that strange and mysterious things would soon be happening all over the country. Mr. Dursley hummed as he picked out his most boring tie for work, and Mrs. Dursley gossiped away happily as she wrestled a screaming Dudley into his high chair. None of them noticed a large, tawny owl flutter past the window. At half past eight, Mr. Dursley picked up his briefcase, pecked Mrs. Dursley on the cheek, and tried to kiss Dudley good-bye but missed, because Dudley was now having a tantrum and throwing his cereal at the walls. \"Little tyke,\" chortled Mr. Dursley as he left the house. He got into his car and backed out of number four's drive. It was on the corner of the street that he noticed the first sign of something peculiar — a cat reading a map. For a second, Mr. Dursley didn't realize what he had seen — then he jerked his head around to look again. There was a tabby cat standing on the corner of Privet Drive, but there wasn't a map in sight. What could he have been thinking of? It must have been a trick of the light. Mr. Dursley blinked and stared at the cat. It stared back. As Mr. Dursley drove around the corner and up the road, he watched the cat in his mirror. It was now reading the sign that said Privet Drive — no, looking at the sign; cats couldn't read maps or signs. Mr. Dursley gave himself a little shake and put the cat out of his mind. As he drove toward town he thought of nothing except a large order of drills he was hoping to get that day. But on the edge of town, drills were driven out of his mind by something else. As he sat in the usual morning traffic jam, he couldn't help noticing that there seemed to be a lot of strangely dressed people about. People in cloaks. Mr. Dursley couldn't bear people who dressed in funny clothes — the getups you saw on young people! He supposed this was some stupid new fashion. He drummed his fingers on the steering wheel and his eyes fell on a huddle of these weirdos standing quite close by. They were whispering excitedly together. Mr. Dursley was enraged to see that a couple of them weren't young at all; why, that man had to be older than he was, and wearing an emerald-green cloak! The nerve of him! But then it struck Mr. Dursley that this was probably some silly stunt — these people were obviously collecting for something... yes, that would be it. The traffic moved on and a few minutes later, Mr. Dursley arrived in the Grunnings parking lot, his mind back on drills. Mr. Dursley always sat with his back to the window in his office on the ninth floor. If he hadn't, he might have found it harder to concentrate on drills that morning. He didn't see the owls swoop ing past in broad daylight, though people down in the street did; they pointed and gazed open- mouthed as owl after owl sped overhead. Most of them had never seen an owl even at nighttime. Mr. Dursley, however, had a perfectly normal, owl-free morning. He yelled at five different people. He made several important telephone calls and shouted a bit more. He was in a very good mood until lunchtime, when he thought he'd stretch his legs and walk across the road to buy himself a bun from the bakery. He'd forgotten all about the people in cloaks until he passed a group of them next to the baker's. He eyed them angrily as he passed. He didn't know why, but they made him uneasy. This bunch were whispering excitedly, too, and he couldn't see a single collecting tin. It was on his way back past them, clutching a large doughnut in a bag, that he caught a few words of what they were saying. \"The Potters, that's right, that's what I heard yes, their son, Harry\" Mr. Dursley stopped dead. Fear flooded him. He looked back at the whisperers as if he wanted to say something tothem, but thought better of it. \n",
        "\"\"\""
      ],
      "execution_count": 0,
      "outputs": []
    },
    {
      "cell_type": "code",
      "metadata": {
        "id": "vV6CHG2ZlcwS",
        "colab_type": "code",
        "outputId": "4f5a196d-486b-4516-e5a7-c3f4aede23d0",
        "colab": {
          "base_uri": "https://localhost:8080/",
          "height": 34
        }
      },
      "source": [
        "# Split into sentences, remove trailing spaces, remove symbols and make everything lower case  \n",
        "\n",
        "sentences = re.compile(\"[\\.\\?\\!]\").split(original)\n",
        "\n",
        "sentences[:] = [sentence.strip() for sentence in sentences]\n",
        "sentences[:] = [re.sub('[^\\w\\d\\s]', '', sentence) for sentence in sentences]\n",
        "sentences[:] = [sentence.lower() for sentence in sentences]\n",
        "\n",
        "print(\"number of sentences: \" + str(len(sentences)))"
      ],
      "execution_count": 0,
      "outputs": [
        {
          "output_type": "stream",
          "text": [
            "number of sentences: 85\n"
          ],
          "name": "stdout"
        }
      ]
    },
    {
      "cell_type": "code",
      "metadata": {
        "id": "5yBgC__9nu_a",
        "colab_type": "code",
        "outputId": "dfd9d099-57cb-4dad-a767-0077ca3c2ab0",
        "colab": {
          "base_uri": "https://localhost:8080/",
          "height": 34
        }
      },
      "source": [
        "# Stop words we need to remove from the paragraph\n",
        "\n",
        "stop_words = stopwords.words('english')\n",
        "stop_words[:] = [re.sub('[^\\w\\d\\s]', '', word) for word in stop_words]\n",
        "stop_words[:] = [word.lower() for word in stop_words]\n",
        "\n",
        "print(\"number of stop words: \" + str(len(stop_words)))"
      ],
      "execution_count": 0,
      "outputs": [
        {
          "output_type": "stream",
          "text": [
            "number of stop words: 179\n"
          ],
          "name": "stdout"
        }
      ]
    },
    {
      "cell_type": "code",
      "metadata": {
        "id": "ok4IKLvyokl2",
        "colab_type": "code",
        "outputId": "72555389-0fb4-4951-bd80-58232d77c166",
        "colab": {
          "base_uri": "https://localhost:8080/",
          "height": 34
        }
      },
      "source": [
        "# Remove stop words\n",
        "\n",
        "unique_words = set()\n",
        "\n",
        "for sentence in sentences:\n",
        "  for word in sentence.split():\n",
        "    if word not in stop_words:\n",
        "      unique_words.add(word)\n",
        "\n",
        "print(\"number of unique words: \" + str(len(unique_words)))"
      ],
      "execution_count": 0,
      "outputs": [
        {
          "output_type": "stream",
          "text": [
            "number of unique words: 327\n"
          ],
          "name": "stdout"
        }
      ]
    },
    {
      "cell_type": "code",
      "metadata": {
        "id": "rj-Rujq8yGey",
        "colab_type": "code",
        "outputId": "ff993358-253d-4e86-b9bd-b64f96889896",
        "colab": {
          "base_uri": "https://localhost:8080/",
          "height": 34
        }
      },
      "source": [
        "# Stem words\n",
        "\n",
        "row_set = set()\n",
        "stemmer = PorterStemmer()\n",
        "\n",
        "for word in unique_words:\n",
        "  row_set.add(stemmer.stem(word))\n",
        "\n",
        "print(\"number of rows: \" + str(len(row_set)))"
      ],
      "execution_count": 0,
      "outputs": [
        {
          "output_type": "stream",
          "text": [
            "number of rows: 306\n"
          ],
          "name": "stdout"
        }
      ]
    },
    {
      "cell_type": "code",
      "metadata": {
        "id": "6N9A99cdDKC8",
        "colab_type": "code",
        "outputId": "c3ddeabb-83a2-4e90-9cb7-700f954c698a",
        "colab": {
          "base_uri": "https://localhost:8080/",
          "height": 286
        }
      },
      "source": [
        "# Generate text matrix\n",
        "\n",
        "def calculate_frequency(sentence, word):\n",
        "  counter = 0;\n",
        "  for element in sentence.split():\n",
        "    if word in element:\n",
        "      counter += 1\n",
        "  return counter\n",
        "\n",
        "row_list = list(row_set)\n",
        "\n",
        "matrix = np.zeros((len(row_list), len(sentences)), dtype=int)\n",
        "\n",
        "for row in range(len(row_list)):\n",
        "  for column in range(len(sentences)):\n",
        "    matrix[row][column] = calculate_frequency(sentences[column], row_list[row])\n",
        "\n",
        "plt.spy(matrix)"
      ],
      "execution_count": 0,
      "outputs": [
        {
          "output_type": "execute_result",
          "data": {
            "text/plain": [
              "<matplotlib.image.AxesImage at 0x7fc2512d02e8>"
            ]
          },
          "metadata": {
            "tags": []
          },
          "execution_count": 97
        },
        {
          "output_type": "display_data",
          "data": {
            "image/png": "[encoded data removed]",
            "text/plain": [
              "<Figure size 432x288 with 1 Axes>"
            ]
          },
          "metadata": {
            "tags": []
          }
        }
      ]
    },
    {
      "cell_type": "code",
      "metadata": {
        "id": "mD2rHoO2yM9v",
        "colab_type": "code",
        "colab": {}
      },
      "source": [
        "# Compute the SVD\n",
        "\n",
        "u, s, v = np.linalg.svd(matrix)"
      ],
      "execution_count": 0,
      "outputs": []
    },
    {
      "cell_type": "code",
      "metadata": {
        "id": "bo-3i1UPR2dC",
        "colab_type": "code",
        "outputId": "6fb3c9be-b83e-4db4-83f7-913b4fb89722",
        "colab": {
          "base_uri": "https://localhost:8080/",
          "height": 54
        }
      },
      "source": [
        "# Find the top ten highest values in the first row\n",
        "\n",
        "u_1 = u[:,1]\n",
        "\n",
        "top_ten = list()\n",
        "\n",
        "for i in range(10):\n",
        "  maxval = max(u_1)\n",
        "  top_ten.append(np.where(u_1 == maxval))\n",
        "  u_1 = np.delete(u_1, np.where(u_1 == maxval))\n",
        "\n",
        "print(top_ten)"
      ],
      "execution_count": 0,
      "outputs": [
        {
          "output_type": "stream",
          "text": [
            "[(array([304]),), (array([16]),), (array([229]),), (array([237]),), (array([102]),), (array([38]),), (array([146]),), (array([191]),), (array([233]),), (array([191]),)]\n"
          ],
          "name": "stdout"
        }
      ]
    },
    {
      "cell_type": "code",
      "metadata": {
        "id": "JMjoQ5MQTUFQ",
        "colab_type": "code",
        "outputId": "d96e14e5-d452-478f-bdb2-de24ca54e792",
        "colab": {
          "base_uri": "https://localhost:8080/",
          "height": 34
        }
      },
      "source": [
        "# Print the important words\n",
        "\n",
        "counter = 0\n",
        "important_words = list()\n",
        "for locarr in top_ten:\n",
        "  for loc in np.nditer(locarr):\n",
        "    important_words.append(row_list[loc])\n",
        "    counter += 1\n",
        "    if counter == 10:\n",
        "      break\n",
        "  if counter == 10:\n",
        "    break\n",
        "  \n",
        "print(important_words)"
      ],
      "execution_count": 0,
      "outputs": [
        {
          "output_type": "stream",
          "text": [
            "['ing', 'sign', 'much', 'cloudi', 'bag', 'blond', 'bakeri', 'call', 'child', 'call']\n"
          ],
          "name": "stdout"
        }
      ]
    },
    {
      "cell_type": "code",
      "metadata": {
        "id": "G0-KqGjIUyRR",
        "colab_type": "code",
        "outputId": "359ccff4-1d6c-42ce-d8f9-248a844a7b2e",
        "colab": {
          "base_uri": "https://localhost:8080/",
          "height": 122
        }
      },
      "source": [
        "# Print sentences with important words\n",
        "\n",
        "importance_list = list()\n",
        "for column in range(len(sentences)):\n",
        "  importance = 0\n",
        "  for row in range(len(row_list)):\n",
        "    if row_list[row] in important_words:\n",
        "      importance += matrix[row][column]\n",
        "  importance_list.append(importance)\n",
        "\n",
        "find_top = importance_list\n",
        "for i in range(5):\n",
        "  most_imp = max(find_top)\n",
        "  index = importance_list.index(most_imp)\n",
        "  find_top.remove(most_imp)\n",
        "  print(sentences[index])"
      ],
      "execution_count": 0,
      "outputs": [
        {
          "output_type": "stream",
          "text": [
            "it was now reading the sign that said privet drive  no looking at the sign cats couldnt read maps or signs\n",
            "dursley was thin and blonde and had nearly twice the usual amount of neck which came in very useful as she spent so much of her time craning over garden fences spying on the neighbors\n",
            "the dursleys knew that the potters had a small son too but they had never even seen him\n",
            "when mr\n",
            "little tyke chortled mr\n"
          ],
          "name": "stdout"
        }
      ]
    },
    {
      "cell_type": "markdown",
      "metadata": {
        "id": "h4uPLX8EQfi_",
        "colab_type": "text"
      },
      "source": [
        "### TMG \n",
        "\n",
        "* https://web.ics.purdue.edu/~ekontopo/presentations/Athens2011_TMG.pdf"
      ]
    },
    {
      "cell_type": "markdown",
      "metadata": {
        "id": "ttDRRQFFoplq",
        "colab_type": "text"
      },
      "source": [
        "# References\n",
        "* https://chrisalbon.com/machine_learning/preprocessing_text/remove_stop_words/\n",
        "* https://medium.com/towards-artificial-intelligence/text-mining-in-python-steps-and-examples-78b3f8fd913b\n",
        "* https://stackoverflow.com/questions/903853/how-do-you-extract-a-column-from-a-multi-dimensional-array"
      ]
    }
  ]
}