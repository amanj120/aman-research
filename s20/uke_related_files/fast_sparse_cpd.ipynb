{
 "cells": [
  {
   "cell_type": "code",
   "execution_count": 1,
   "metadata": {},
   "outputs": [],
   "source": [
    "from numba import njit,prange"
   ]
  },
  {
   "cell_type": "code",
   "execution_count": 2,
   "metadata": {},
   "outputs": [],
   "source": [
    "@njit(parallel=True)\n",
    "def mttkrp(X, factors, n, rank, dims):    \n",
    "    output = np.zeros((dims[n],rank))\n",
    "    indices = X.indices.numpy()\n",
    "    values = X.values.numpy()\n",
    "    \n",
    "    for l in prange(len(values)):\n",
    "        cur_index = indices[l]\n",
    "        prod = [values[l]]*rank #makes the value into a row\n",
    "\n",
    "        for mode,cv in enumerate(cur_index): #does elementwise row multiplications\n",
    "            if(mode != n):\n",
    "                prod *= factors[mode][cv]\n",
    "                \n",
    "        output[cur_index[n]] += prod\n",
    "    \n",
    "    return output\n",
    "\n",
    "def cp_als(X, rank, n_iter_max = 50):\n",
    "    \n",
    "    dims = X.shape.as_list()\n",
    "    nd = len(dims)\n",
    "    factors = [np.random.random((d,rank)) for d in dims]\n",
    "    weights = np.ones((1,rank))\n",
    "    \n",
    "    for iteration in range(n_iter_max): \n",
    "        print(iteration , end=\"\\r\")\n",
    "        for n in range(nd):\n",
    "            \n",
    "            #the following block calculates inverse of the hadamard product\n",
    "            h = mul(weights.T,weights)\n",
    "            for i,f in enumerate(factors):\n",
    "                if i != n:\n",
    "                    h *= mul(f.T,f)\n",
    "            vinv = np.linalg.pinv(h)\n",
    "            \n",
    "            #the following block calculates An by doing MTTKRP and multiplying it by the inverse of the hadamard\n",
    "            mk = mttkrp(X, factors, n, rank, dims)\n",
    "            wmk = np.multiply(mk, weights[0]) #handling the weights\n",
    "            An = mul(wmk,vinv)\n",
    "            \n",
    "            #the following block normalizes the columns and stored\n",
    "            weight = norm(An,axis=0)\n",
    "            b = np.where(weight<1e-12, 1, weight)\n",
    "            weights[0] *= b\n",
    "            An /= b\n",
    "            \n",
    "            factors[n] = An\n",
    "            \n",
    "    return weights, factors"
   ]
  },
  {
   "cell_type": "code",
   "execution_count": null,
   "metadata": {},
   "outputs": [],
   "source": []
  }
 ],
 "metadata": {
  "kernelspec": {
   "display_name": "Python 3",
   "language": "python",
   "name": "python3"
  },
  "language_info": {
   "codemirror_mode": {
    "name": "ipython",
    "version": 3
   },
   "file_extension": ".py",
   "mimetype": "text/x-python",
   "name": "python",
   "nbconvert_exporter": "python",
   "pygments_lexer": "ipython3",
   "version": "3.8.2"
  }
 },
 "nbformat": 4,
 "nbformat_minor": 4
}
