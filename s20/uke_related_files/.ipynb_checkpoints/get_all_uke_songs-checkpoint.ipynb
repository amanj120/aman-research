{
 "cells": [
  {
   "cell_type": "code",
   "execution_count": 1,
   "metadata": {},
   "outputs": [],
   "source": [
    "import requests\n",
    "import re\n",
    "import time\n",
    "import json"
   ]
  },
  {
   "cell_type": "code",
   "execution_count": 2,
   "metadata": {},
   "outputs": [],
   "source": [
    "alphabet = ['0-9','a','b','c','d','e','f','g','h','i','j','k','l','m','n','o','p','q','r','ss','t','u','v','w','x','y','z',]"
   ]
  },
  {
   "cell_type": "code",
   "execution_count": 3,
   "metadata": {},
   "outputs": [
    {
     "name": "stdout",
     "output_type": "stream",
     "text": [
      "All artists found, put in 'all_artist_urls.txt'\n"
     ]
    }
   ],
   "source": [
    "'''\n",
    "This cell gets all the artist urls from ukutabs, and writes it into a file called 'all_artist_urls.txt'\n",
    "The commented out code is just in case they are scanning for scrapers. I have already collected this information\n",
    "'''\n",
    "'''\n",
    "all_artist_urls = set()\n",
    "for letter in alphabet:\n",
    "    print(letter)\n",
    "    url = 'https://ukutabs.com/artist/{}/'.format(letter)\n",
    "    rgx = \"https://ukutabs\\.com/{}/[\\w|-]+/\".format(letter)\n",
    "    req = requests.get(url)\n",
    "    txt = req.text\n",
    "    letter_artists = re.findall(rgx, txt)\n",
    "    upd = []\n",
    "    for a in letter_artists:\n",
    "        if not (a.endswith('/feed/') or a.endswith('/page/')):\n",
    "#             print(a)\n",
    "            upd.append(a)\n",
    "    all_artist_urls.update(upd)\n",
    "    \n",
    "    print('there are {} artists'.format(len(all_artist_urls)))\n",
    "    file = open(\"all_artist_urls.txt\", \"w\")\n",
    "    file.write(str(all_artist_urls))\n",
    "    file.close()\n",
    "    '''\n",
    "\n",
    "print(\"All artists found, put in 'all_artist_urls.txt'\")"
   ]
  },
  {
   "cell_type": "code",
   "execution_count": 4,
   "metadata": {},
   "outputs": [
    {
     "name": "stdout",
     "output_type": "stream",
     "text": [
      "All songs found, put in 'all_song_urls.txt'\n"
     ]
    }
   ],
   "source": [
    "'''\n",
    "This cell goes through all the artists, and gets every song hyperlink for each artist\n",
    "The commented code is just in case they scan for scrapers, so I don't want to run it every time\n",
    "Plus scraping all of this takes a long time (half an hour almost)\n",
    "'''\n",
    "\n",
    "'''\n",
    "f = open('all_artist_urls.txt', 'r')\n",
    "temp_artists = f.read().split(',')\n",
    "all_artist_urls = []\n",
    "url_rgx = 'https://\\S*/'\n",
    "for t in temp_artists:\n",
    "    link = re.search(url_rgx, t).group()\n",
    "    print(link)\n",
    "    all_artist_urls.append(link)\n",
    "f.close()\n",
    "\n",
    "all_artist_urls.sort()\n",
    "\n",
    "f = open('all_song_urls.txt', 'w')\n",
    "for artist in all_artist_urls:\n",
    "    req = requests.get(artist)\n",
    "    txt = req.text\n",
    "    chord_rgx = '<span class=\\\"tabtype chrd\\\">.*</a>'\n",
    "    temp_songs = re.findall(chord_rgx, txt)\n",
    "    for t in temp_songs:\n",
    "        link = re.search(url_rgx, t).group()\n",
    "        print(link)\n",
    "        f.write(link + '\\n')\n",
    "#         time.sleep(0.1)\n",
    "f.close()\n",
    "'''\n",
    "print(\"All songs found, put in 'all_song_urls.txt'\")"
   ]
  },
  {
   "cell_type": "code",
   "execution_count": 6,
   "metadata": {},
   "outputs": [
    {
     "name": "stdout",
     "output_type": "stream",
     "text": [
      "All artist urls are sorted now\n"
     ]
    }
   ],
   "source": [
    "# Sorts the artist urls\n",
    "\n",
    "'''\n",
    "f = open('all_artist_urls.txt', 'r')\n",
    "temp_artists = f.read().split(',')\n",
    "all_artist_urls = []\n",
    "url_rgx = 'https://\\S*/'\n",
    "for t in temp_artists:\n",
    "    link = re.search(url_rgx, t).group()\n",
    "    print(link)\n",
    "    all_artist_urls.append(link)\n",
    "f.close()\n",
    "all_artist_urls.sort()\n",
    "f = open('all_artist_urls.txt', 'w')\n",
    "for artist in all_artist_urls:\n",
    "    f.write(artist + '\\n')\n",
    "f.close()\n",
    "\n",
    "'''\n",
    "print('All artist urls are sorted now')"
   ]
  },
  {
   "cell_type": "code",
   "execution_count": 8,
   "metadata": {},
   "outputs": [
    {
     "data": {
      "text/plain": [
       "'{\"artist\": \"eagles\", \"song\": \"hotel-california\", \"chords\": [\"Bm\", \"Gb7\", \"A\", \"E7\", \"G\", \"D\", \"Em\", \"Gb7\", \"Bm\", \"Gb7\", \"A\", \"E7\", \"G\", \"D\", \"Em\", \"Gb7\", \"G\", \"D\", \"Gb7\", \"Bm\", \"Gb7\", \"Bm\", \"G\", \"D\", \"Em\", \"Gb7\", \"Bm\", \"Gb7\", \"A\", \"E7\", \"G\", \"D\", \"Em\", \"Gb7\", \"Bm\", \"Gb7\", \"A\", \"E7\", \"G\", \"D\", \"Em\", \"Gb7\", \"G\", \"D\", \"Gb7\", \"Bm\", \"Gb7\", \"Bm\", \"G\", \"D\", \"Em\", \"Gb7\", \"Bm\", \"Gb7\", \"A\", \"E7\", \"G\", \"Em\", \"Bm\", \"Gb7\", \"A\", \"E7\", \"G\", \"D\", \"Em\", \"Gb7\"], \"difficulty\": [\"title=\\\\\"Difficulty level 5\\\\\"\"]}'"
      ]
     },
     "execution_count": 8,
     "metadata": {},
     "output_type": "execute_result"
    }
   ],
   "source": [
    "song_url_to_json('https://ukutabs.com/e/eagles/hotel-california/')"
   ]
  },
  {
   "cell_type": "code",
   "execution_count": 9,
   "metadata": {},
   "outputs": [],
   "source": [
    "def song_url_to_json(url):\n",
    "    url_data = url.split('/')\n",
    "    artist = url_data[-3]\n",
    "    song = url_data[-2]\n",
    "    req = requests.get(url)\n",
    "    txt = req.text\n",
    "    lyrics = txt.split('<div id=\"cont\">')[1]\n",
    "    rgx = '<uke-chord.*?>'\n",
    "    finds = re.findall(rgx, lyrics)\n",
    "    chords = []\n",
    "    for f in finds:\n",
    "        ch_rgx = 'name=\\\"\\S+\\\"'\n",
    "        chord = re.search(ch_rgx, f).group().split('\"')[1]\n",
    "        chords.append(chord)\n",
    "    difficulty = re.findall('title=\"Difficulty level \\d\"', txt)\n",
    "    song_dict = {\n",
    "        'artist': artist,\n",
    "        'song': song,\n",
    "        'chords':chords,\n",
    "        'difficulty': difficulty\n",
    "    }\n",
    "    j_d = json.dumps(song_dict)\n",
    "    return j_d"
   ]
  },
  {
   "cell_type": "code",
   "execution_count": 12,
   "metadata": {},
   "outputs": [
    {
     "name": "stdout",
     "output_type": "stream",
     "text": [
      "5836\n",
      "{\"artist\": \"4-non-blondes\", \"song\": \"whats-up\", \"chords\": [\"A\", \"Bm\", \"D\", \"A\", \"A\", \"Bm\", \"D\", \"A\", \"A\", \"Bm\", \"D\", \"A\", \"A\", \"Bm\", \"D\", \"A\", \"A\", \"Bm\", \"D\", \"A\", \"A\", \"Bm\", \"D\", \"A\", \"A\", \"Bm\", \"D\", \"A\", \"A\", \"Bm\", \"D\", \"A\", \"A\", \"Bm\", \"D\", \"A\", \"A\", \"Bm\", \"D\", \"A\", \"A\", \"Bm\", \"D\", \"A\", \"A\", \"Bm\", \"D\", \"A\", \"A\", \"Bm\", \"D\", \"A\", \"A\", \"Bm\", \"D\", \"A\"], \"difficulty\": [\"title=\\\"Difficulty level 2\\\"\"]}\n"
     ]
    }
   ],
   "source": [
    "f = open('all_song_urls.txt','r')\n",
    "songs = f.read().split('\\n')\n",
    "print(len(songs))\n",
    "song_url =  songs[10]\n",
    "s = song_url_to_json(song_url)\n",
    "print(s)"
   ]
  },
  {
   "cell_type": "code",
   "execution_count": null,
   "metadata": {},
   "outputs": [],
   "source": [
    "# f = open(\"songs.json\", \"w\")\n",
    "# idx = 0\n",
    "# f.write(\"[\\n\")\n",
    "# while(idx < len(songs)):\n",
    "#     song = songs[idx]\n",
    "#     try:\n",
    "#         sj = song_url_to_json(song)\n",
    "#         idx += 1\n",
    "#         print(\"{:3.2f}\".format((idx/5836)*100) + \"% done \" + song, end=\"\\r\")\n",
    "#         f.write(sj)\n",
    "#         f.write(',\\n')\n",
    "#     except:\n",
    "#         continue\n",
    "# f.write(\"]\")\n",
    "# f.close()\n",
    "\n",
    "print(\"All songs put into songs.json\")"
   ]
  },
  {
   "cell_type": "code",
   "execution_count": 11,
   "metadata": {},
   "outputs": [],
   "source": [
    "#5836 songs, 2051 artists -> 2.82 songs per artist (a lot of artists are mostly 1)\n",
    "#Each song corresponds to a chord sequence\n",
    "    #Each chord sequence can be transposed 15 different ways\n",
    "    #Each chord has 4 strings that need to be pressed in 4 (or 5 or maybe more) different places\n",
    "#What to do???\n",
    "    #analyze chord transitions as a graph, look at distances between graphs as weights\n",
    "    #thus the relative difficulty of a song can be measured by the cumulative (normalized) distances of the graph\n",
    "    #something something tensor graphs???"
   ]
  },
  {
   "cell_type": "code",
   "execution_count": 13,
   "metadata": {},
   "outputs": [],
   "source": [
    "f = open(\"songs.json\", \"r\")\n",
    "j = json.load(f) #validates json\n",
    "f.close()"
   ]
  },
  {
   "cell_type": "code",
   "execution_count": 21,
   "metadata": {},
   "outputs": [],
   "source": [
    "for i in range(len(j)):\n",
    "    j[i]['difficulty'] = int(j[i]['difficulty'][0][24])"
   ]
  },
  {
   "cell_type": "code",
   "execution_count": 25,
   "metadata": {},
   "outputs": [
    {
     "name": "stdout",
     "output_type": "stream",
     "text": [
      "{'artist': '10cc', 'song': 'the-things-we-do-for-love', 'chords': ['G', 'D', 'Em', 'D', 'G', 'D', 'Am7', 'Bbm', 'Gb', 'Db', 'Fm', 'Eb', 'Gb', 'F', 'Ebm', 'Db', 'Gb', 'Db', 'Bbm', 'Gb', 'Db', 'Fm', 'Eb', 'Gb', 'Bbm', 'F', 'Ebm', 'Db', 'Gb', 'Db', 'Db', 'Db', 'Db', 'Db', 'Ebm', 'Ebm', 'Ab7', 'Ab7', 'Bbm', 'Db', 'Gb', 'Eb', 'Ab', 'F', 'Bbm', 'Gbm', 'G', 'D', 'Em', 'D', 'G', 'D', 'Am7', 'Bbm', 'Gb', 'Db', 'Fm', 'Eb', 'Gb', 'Bbm', 'F', 'Ebm', 'Db', 'Gb', 'Db', 'Db', 'Db', 'Db', 'Db', 'Ebm', 'Ebm', 'Ab7', 'Ab7', 'Bbm', 'Db', 'Gb', 'Eb', 'Ab', 'F', 'Bbm', 'Gbm', 'G', 'D', 'Em', 'D', 'G', 'D', 'Am7', 'Bbm', 'Gb', 'Db', 'Fm', 'Eb', 'Gb', 'Bbm', 'F', 'Ebm', 'Db', 'Gb', 'Db', 'Ebm7', 'Db', 'Gb', 'Db', 'Ebm7', 'Db', 'Gb', 'Db'], 'difficulty': 4}\n"
     ]
    }
   ],
   "source": [
    "print(j[0])"
   ]
  },
  {
   "cell_type": "code",
   "execution_count": 32,
   "metadata": {},
   "outputs": [],
   "source": [
    "f = open(\"songs_1.json\", \"w\")\n",
    "f.write('[\\n')\n",
    "for i in j:\n",
    "    f.write(json.dumps(i) + \",\\n\")\n",
    "f.write('\\n]')\n",
    "f.close()"
   ]
  },
  {
   "cell_type": "code",
   "execution_count": null,
   "metadata": {},
   "outputs": [],
   "source": []
  }
 ],
 "metadata": {
  "kernelspec": {
   "display_name": "Python 3",
   "language": "python",
   "name": "python3"
  },
  "language_info": {
   "codemirror_mode": {
    "name": "ipython",
    "version": 3
   },
   "file_extension": ".py",
   "mimetype": "text/x-python",
   "name": "python",
   "nbconvert_exporter": "python",
   "pygments_lexer": "ipython3",
   "version": "3.7.5"
  }
 },
 "nbformat": 4,
 "nbformat_minor": 2
}
