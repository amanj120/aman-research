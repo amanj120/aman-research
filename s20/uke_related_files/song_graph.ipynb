{
 "cells": [
  {
   "cell_type": "code",
   "execution_count": 70,
   "metadata": {},
   "outputs": [],
   "source": [
    "import json\n",
    "import numpy as np"
   ]
  },
  {
   "cell_type": "code",
   "execution_count": 71,
   "metadata": {},
   "outputs": [
    {
     "name": "stdout",
     "output_type": "stream",
     "text": [
      "there are 5835 songs\n"
     ]
    }
   ],
   "source": [
    "fs = open('songs_1.json','r')\n",
    "s_json = json.load(fs)\n",
    "fs.close()\n",
    "print('there are {} songs'.format(len(s_json)))"
   ]
  },
  {
   "cell_type": "code",
   "execution_count": 72,
   "metadata": {},
   "outputs": [
    {
     "name": "stdout",
     "output_type": "stream",
     "text": [
      "there are 276 chords\n"
     ]
    }
   ],
   "source": [
    "fc = open('chords.json','r')\n",
    "c_json = json.load(fc)\n",
    "fc.close()\n",
    "print('there are {} chords'.format(len(c_json)))"
   ]
  },
  {
   "cell_type": "code",
   "execution_count": 81,
   "metadata": {},
   "outputs": [],
   "source": [
    "chords = {}\n",
    "chord_idx = 0\n",
    "\n",
    "for c in c_json:\n",
    "    name = c[\"name\"]\n",
    "    frets = c[\"frets\"]\n",
    "    fingers = c[\"fingers\"]\n",
    "    chords[name] = (frets,fingers)"
   ]
  },
  {
   "cell_type": "code",
   "execution_count": 82,
   "metadata": {},
   "outputs": [],
   "source": [
    "songs = []\n",
    "for s in s_json:\n",
    "    songs.append(s)"
   ]
  },
  {
   "cell_type": "code",
   "execution_count": 83,
   "metadata": {},
   "outputs": [],
   "source": [
    "def chord_transition_cost(c0, c1, verbose=False):\n",
    "    '''\n",
    "    So we want to look at each finger, see which fret it started and ended on, and take the manhattan distance\n",
    "    of that\n",
    "    Add up all of those\n",
    "    \n",
    "    fing[i] represents which finger should be on string i\n",
    "    fret[i] represents which fret should be pressed on string i\n",
    "    \n",
    "    we look at the nonzero fret values, and see the associated finger and string values\n",
    "    and from this we can construct a map from fingers to string and fret\n",
    "    \n",
    "    but how to deal with barring(I think we should just take the first fret that we find a finger for)\n",
    "    '''\n",
    "    start = [None, None, None, None]\n",
    "    end = [None, None, None, None]\n",
    "    \n",
    "    for string in range(4):\n",
    "        start_fret = int(c0[0][string])\n",
    "        end_fret = int(c1[0][string])\n",
    "        start_finger = int(c0[1][string])\n",
    "        end_finger = int(c1[1][string])\n",
    "        if(start_finger != 0 and start[start_finger-1] is None):\n",
    "            start[start_finger-1] = (string, start_fret)\n",
    "        if(end_finger != 0 and end[end_finger-1] is None):\n",
    "            end[end_finger-1] = (string, end_fret)\n",
    "    if verbose:\n",
    "        print(start)\n",
    "        print(end)\n",
    "    \n",
    "    cost = 0\n",
    "    for i in range(4):\n",
    "        if(end[i] is None):\n",
    "            cost += 0 #removing a finger (or potentially not using a finger)\n",
    "        elif(start[i] is None):\n",
    "            cost += end[i][1] #the cost is just the fret that you place the finger on\n",
    "        else:\n",
    "            cost += abs(start[i][0] - end[i][0]) + abs(start[i][1] - end[i][1])\n",
    "            #manhattan distance between start and end frets/strings\n",
    "    \n",
    "    return cost\n",
    "\n",
    "def ctc(c0, c1):\n",
    "    return chord_transition_cost(chords[c0], chords[c1])"
   ]
  },
  {
   "cell_type": "code",
   "execution_count": 84,
   "metadata": {},
   "outputs": [],
   "source": [
    "def chord_lev(chord1, chord2, verbose=True):\n",
    "    # there's one less chord transition than there are chords\n",
    "    l1 = len(chord1) \n",
    "    l2 = len(chord2)\n",
    "    dp = np.zeros((l1,l2))\n",
    "    for i in range(l1-1):\n",
    "        dp[i+1][0] = dp[i][0] + ctc(chord1[i], chord1[i+1])\n",
    "    for j in range(l2-1):\n",
    "        dp[0][j+1] = dp[0][j] + ctc(chord2[j], chord2[j+1])\n",
    "    \n",
    "    for i in range(1, l1):\n",
    "        for j in range(1,l2):\n",
    "            t1 = (chord1[i-1], chord1[i]) #transtion a\n",
    "            t2 = (chord2[j-1], chord2[j]) #transition b\n",
    "            val = 0\n",
    "            if t1 == t2: #if the chords are equal, then the cost \n",
    "                val = dp[i-1][j-1]\n",
    "            else:\n",
    "                '''\n",
    "                chords 1: a1, a2, a3... an\n",
    "                chords 2: b1, b2, b3... bm\n",
    "                \n",
    "                replacing ai with bj:\n",
    "                    original: ai-1 -> ai -> ai+1\n",
    "                    new: ai-1 -> bj -> ai+1\n",
    "                    cost: (ai-1->bj)\n",
    "                deleting ai:\n",
    "                    original: ai-1 -> ai -> ai+1\n",
    "                    new: ai-1 -> ai+1\n",
    "                    cost: (ai-1->ai+1) - (ai-1->i) - (ai->ai+1)\n",
    "                inserting bj after ai:\n",
    "                    original: ai-1 -> ai -> ai+1\n",
    "                    new: ai-1 -> ai -> bj -> ai+1\n",
    "                    cost: (ai->bj) + (bj->ai+1) - (ai->ai+1)\n",
    "                '''\n",
    "                '''\n",
    "                replace at with bt is going to be +bt-at\n",
    "                delete at = -at\n",
    "                insert bt = +bt\n",
    "                '''\n",
    "                #or something like that\n",
    "                replace = dp[i-1][j-1] - ctc(t1[0], t1[1]) + ctc(t2[0],t2[1])\n",
    "                delete = dp[i-1][j] - ctc(t1[0],t1[1])\n",
    "                insert = dp[i][j-1] + ctc(t2[0],t2[1])\n",
    "                val = min(replace, delete, insert)\n",
    "            dp[i][j] = val\n",
    "    if verbose:\n",
    "        print(dp)\n",
    "    return(dp[l1-1][l2-1])"
   ]
  },
  {
   "cell_type": "code",
   "execution_count": 85,
   "metadata": {},
   "outputs": [],
   "source": [
    "def song_diff(song1, song2, verbose=True):\n",
    "    c1 = song1['chords']\n",
    "    c2 = song2['chords']\n",
    "    return chord_lev(c1,c2, verbose=verbose)"
   ]
  },
  {
   "cell_type": "code",
   "execution_count": 88,
   "metadata": {},
   "outputs": [
    {
     "name": "stdout",
     "output_type": "stream",
     "text": [
      "0 0 0.0\n",
      "0 1 -314.0\n",
      "0 2 -156.0\n",
      "0 3 -227.0\n",
      "0 4 -304.0\n",
      "0 5 175.0\n",
      "0 6 -228.0\n",
      "0 7 67.0\n",
      "0 8 -263.0\n",
      "0 9 48.0\n",
      "1 1 0.0\n",
      "1 2 158.0\n",
      "1 3 87.0\n",
      "1 4 10.0\n",
      "1 5 489.0\n",
      "1 6 86.0\n",
      "1 7 381.0\n",
      "1 8 51.0\n",
      "1 9 362.0\n",
      "2 2 0.0\n",
      "2 3 -71.0\n",
      "2 4 -148.0\n",
      "2 5 331.0\n",
      "2 6 -72.0\n",
      "2 7 223.0\n",
      "2 8 -107.0\n",
      "2 9 204.0\n",
      "3 3 0.0\n",
      "3 4 -77.0\n",
      "3 5 402.0\n",
      "3 6 -1.0\n",
      "3 7 294.0\n",
      "3 8 -36.0\n",
      "3 9 275.0\n",
      "4 4 0.0\n",
      "4 5 479.0\n",
      "4 6 76.0\n",
      "4 7 371.0\n",
      "4 8 41.0\n",
      "4 9 352.0\n",
      "5 5 0.0\n",
      "5 6 -403.0\n",
      "5 7 -108.0\n",
      "5 8 -438.0\n",
      "5 9 -127.0\n",
      "6 6 0.0\n",
      "6 7 295.0\n",
      "6 8 -35.0\n",
      "6 9 276.0\n",
      "7 7 0.0\n",
      "7 8 -330.0\n",
      "7 9 -19.0\n",
      "8 8 0.0\n",
      "8 9 311.0\n",
      "9 9 0.0\n"
     ]
    }
   ],
   "source": [
    "l = 10 #len(songs)\n",
    "diffs = np.zeros((l,l))\n",
    "for i in range(l):\n",
    "    for j in range(i,l):\n",
    "        diffs[i][j] = song_diff(songs[i], songs[j], verbose=False)\n",
    "        print(i,j,diffs[i][j])"
   ]
  },
  {
   "cell_type": "code",
   "execution_count": 89,
   "metadata": {},
   "outputs": [
    {
     "name": "stdout",
     "output_type": "stream",
     "text": [
      "[[   0.    1.    4. ...  201.  204.  209.]\n",
      " [   5.   -4.   -1. ...  196.  199.  204.]\n",
      " [  12.  -11.   -8. ...  189.  192.  197.]\n",
      " ...\n",
      " [ 200. -199. -196. ...    1.    4.    9.]\n",
      " [ 207. -206. -203. ...   -6.   -3.    2.]\n",
      " [ 210. -209. -206. ...   -9.   -6.   -1.]]\n"
     ]
    },
    {
     "data": {
      "text/plain": [
       "-1.0"
      ]
     },
     "execution_count": 89,
     "metadata": {},
     "output_type": "execute_result"
    }
   ],
   "source": [
    "song_diff(songs[10], songs[8])"
   ]
  },
  {
   "cell_type": "code",
   "execution_count": 92,
   "metadata": {},
   "outputs": [
    {
     "name": "stdout",
     "output_type": "stream",
     "text": [
      "{'artist': '4-non-blondes', 'song': 'whats-up', 'chords': ['A', 'Bm', 'D', 'A', 'A', 'Bm', 'D', 'A', 'A', 'Bm', 'D', 'A', 'A', 'Bm', 'D', 'A', 'A', 'Bm', 'D', 'A', 'A', 'Bm', 'D', 'A', 'A', 'Bm', 'D', 'A', 'A', 'Bm', 'D', 'A', 'A', 'Bm', 'D', 'A', 'A', 'Bm', 'D', 'A', 'A', 'Bm', 'D', 'A', 'A', 'Bm', 'D', 'A', 'A', 'Bm', 'D', 'A', 'A', 'Bm', 'D', 'A'], 'difficulty': 2}\n"
     ]
    }
   ],
   "source": [
    "print(songs[10])"
   ]
  },
  {
   "cell_type": "code",
   "execution_count": 93,
   "metadata": {},
   "outputs": [
    {
     "name": "stdout",
     "output_type": "stream",
     "text": [
      "{'artist': '3oh3', 'song': 'dont-trust-me', 'chords': ['Am', 'F', 'C', 'G', 'Am', 'F', 'C', 'G', 'Am', 'F', 'C', 'G', 'Am', 'F', 'C', 'G', 'Am', 'F', 'C', 'G', 'Am', 'F', 'C', 'G', 'Am', 'F', 'C', 'G', 'Am', 'F', 'C', 'G', 'Am', 'F', 'B', 'B', 'B', 'C', 'G', 'Am', 'F', 'C', 'G', 'Am', 'F', 'C', 'G', 'Am', 'F', 'C', 'G', 'Am', 'F', 'C', 'G', 'Am', 'F', 'C', 'G', 'Am', 'F', 'C', 'G', 'Am', 'F', 'C', 'G', 'Am', 'F', 'C', 'G'], 'difficulty': 1}\n"
     ]
    }
   ],
   "source": [
    "print(songs[8])"
   ]
  },
  {
   "cell_type": "code",
   "execution_count": 97,
   "metadata": {},
   "outputs": [
    {
     "ename": "KeyboardInterrupt",
     "evalue": "",
     "output_type": "error",
     "traceback": [
      "\u001b[0;31m---------------------------------------------------------------------------\u001b[0m",
      "\u001b[0;31mKeyboardInterrupt\u001b[0m                         Traceback (most recent call last)",
      "\u001b[0;32m<ipython-input-97-c97cbd771e8c>\u001b[0m in \u001b[0;36m<module>\u001b[0;34m\u001b[0m\n\u001b[0;32m----> 1\u001b[0;31m \u001b[0msong_graph\u001b[0m \u001b[0;34m=\u001b[0m \u001b[0mnp\u001b[0m\u001b[0;34m.\u001b[0m\u001b[0mgenfromtxt\u001b[0m\u001b[0;34m(\u001b[0m\u001b[0;34m'diffs.csv'\u001b[0m\u001b[0;34m,\u001b[0m \u001b[0mdelimiter\u001b[0m\u001b[0;34m=\u001b[0m\u001b[0;34m','\u001b[0m\u001b[0;34m)\u001b[0m\u001b[0;34m\u001b[0m\u001b[0;34m\u001b[0m\u001b[0m\n\u001b[0m",
      "\u001b[0;31mKeyboardInterrupt\u001b[0m: "
     ]
    }
   ],
   "source": [
    "song_graph = np.genfromtxt('diffs.csv', delimiter=',')"
   ]
  },
  {
   "cell_type": "code",
   "execution_count": null,
   "metadata": {},
   "outputs": [],
   "source": []
  }
 ],
 "metadata": {
  "kernelspec": {
   "display_name": "Python 3",
   "language": "python",
   "name": "python3"
  },
  "language_info": {
   "codemirror_mode": {
    "name": "ipython",
    "version": 3
   },
   "file_extension": ".py",
   "mimetype": "text/x-python",
   "name": "python",
   "nbconvert_exporter": "python",
   "pygments_lexer": "ipython3",
   "version": "3.7.5"
  }
 },
 "nbformat": 4,
 "nbformat_minor": 2
}
