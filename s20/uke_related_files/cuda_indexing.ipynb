{
 "cells": [
  {
   "cell_type": "code",
   "execution_count": 18,
   "metadata": {},
   "outputs": [],
   "source": [
    "def find_idx(pos, lenco):\n",
    "    y = 0\n",
    "    x = pos\n",
    "    level = lenco - 1\n",
    "    while(x >= level and level > 0):\n",
    "        x -= level\n",
    "        level -= 1\n",
    "        y += 1\n",
    "    if(x < lenco and y < lenco-1):\n",
    "        y = lenco - y - 1\n",
    "        print(x,y)"
   ]
  },
  {
   "cell_type": "code",
   "execution_count": 19,
   "metadata": {},
   "outputs": [
    {
     "name": "stdout",
     "output_type": "stream",
     "text": [
      "0 5\n",
      "1 5\n",
      "2 5\n",
      "3 5\n",
      "4 5\n",
      "0 4\n",
      "1 4\n",
      "2 4\n",
      "3 4\n",
      "0 3\n",
      "1 3\n",
      "2 3\n",
      "0 2\n",
      "1 2\n",
      "0 1\n"
     ]
    }
   ],
   "source": [
    "for i in range(50):\n",
    "    find_idx(i,6)"
   ]
  },
  {
   "cell_type": "code",
   "execution_count": null,
   "metadata": {},
   "outputs": [],
   "source": []
  }
 ],
 "metadata": {
  "kernelspec": {
   "display_name": "Python 3",
   "language": "python",
   "name": "python3"
  },
  "language_info": {
   "codemirror_mode": {
    "name": "ipython",
    "version": 3
   },
   "file_extension": ".py",
   "mimetype": "text/x-python",
   "name": "python",
   "nbconvert_exporter": "python",
   "pygments_lexer": "ipython3",
   "version": "3.8.2"
  }
 },
 "nbformat": 4,
 "nbformat_minor": 4
}
