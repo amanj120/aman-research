{
 "cells": [
  {
   "cell_type": "code",
   "execution_count": 254,
   "metadata": {},
   "outputs": [],
   "source": [
    "import warnings;\n",
    "warnings.filterwarnings('ignore'); #tensorflow gives me weird stuff\n",
    "import numpy as np;\n",
    "import tensorflow as tf;\n",
    "from numpy import matmul as mul\n",
    "from scipy import sparse\n",
    "tf.enable_eager_execution()"
   ]
  },
  {
   "cell_type": "code",
   "execution_count": 255,
   "metadata": {},
   "outputs": [],
   "source": [
    "def generate_random_factors(dimensions, rank, d = 0.4):\n",
    "    factors = [sparse.random(dim,rank,density=d).A for dim in dimensions]\n",
    "    return factors"
   ]
  },
  {
   "cell_type": "code",
   "execution_count": 294,
   "metadata": {},
   "outputs": [],
   "source": [
    "def expand(factors, dim_no, cur_idx, cur_prod, all_vals, rank):\n",
    "    #this method just writes to all values, so all values needs to be saved somewhere\n",
    "    if dim_no == len(factors):\n",
    "        value = sum(cur_prod) * (3.16**dim_no) # root 10. makes the numbers closer to [0-1]\n",
    "        if(value != 0.0):\n",
    "            all_vals.append((cur_idx,value)) \n",
    "    else:\n",
    "        cur_fact = factors[dim_no]\n",
    "        for i in range(len(cur_fact)):\n",
    "            cp = np.ndarray.copy(cur_prod);\n",
    "            for r in range(rank):\n",
    "                cp[r] *= cur_fact[i][r]\n",
    "            expand(factors, dim_no + 1, cur_idx + [i], cp, all_vals, rank)"
   ]
  },
  {
   "cell_type": "code",
   "execution_count": 295,
   "metadata": {},
   "outputs": [],
   "source": [
    "def generate_decomposable_sp_tensor(dimensions, rank, d = 0.2):\n",
    "    factors = generate_random_factors(dimensions, rank, d = d)\n",
    "    all_values = []\n",
    "    expand(factors, 0, [], np.ones(rank), all_values, rank)\n",
    "    indices = [a[0] for a in all_values]\n",
    "    values = [a[1] for a in all_values]\n",
    "    shape = dimensions\n",
    "    st = tf.SparseTensor(indices=indices, values=values, dense_shape=shape)\n",
    "    return st"
   ]
  },
  {
   "cell_type": "code",
   "execution_count": 296,
   "metadata": {},
   "outputs": [],
   "source": [
    "def generate_random_sp_tensor(dimensions, d = 0.2):\n",
    "    nd = len(dimensions)\n",
    "    num_items = min(100000 , (int)(np.prod(dimensions) * d))    \n",
    "    idxs = set()\n",
    "    \n",
    "    for i in range(num_items):\n",
    "        rand = np.random.rand(nd) #gives us a random index\n",
    "        index = tuple(np.trunc(np.multiply(rand,dimensions)).astype(int))\n",
    "        idxs.add(index)\n",
    "        \n",
    "    indices = list(idxs)\n",
    "    values = np.random.rand(len(indices))\n",
    "    indices.sort()\n",
    "    st = tf.SparseTensor(indices=indices, values=values, dense_shape=dimensions)\n",
    "    return st"
   ]
  },
  {
   "cell_type": "code",
   "execution_count": 297,
   "metadata": {},
   "outputs": [],
   "source": [
    "def generate_sp_tensor(dimensions, rank, d = 0.2, decomposable=True):\n",
    "    if decomposable:\n",
    "        return generate_decomposable_sp_tensor(dimensions, rank, d)\n",
    "    else:\n",
    "        return generate_random_sp_tensor(dimensions,d)"
   ]
  },
  {
   "cell_type": "code",
   "execution_count": 298,
   "metadata": {},
   "outputs": [],
   "source": [
    "def rebuild_sp_tensor_from_factors(factors, dimensions):\n",
    "    all_values = []\n",
    "    expand(factors, 0, [], np.ones(rank), all_values, rank)\n",
    "    indices = [a[0] for a in all_values]\n",
    "    values = [a[1] for a in all_values]\n",
    "    shape = dimensions\n",
    "    st = tf.SparseTensor(indices=indices, values=values, dense_shape=shape)\n",
    "    return st"
   ]
  },
  {
   "cell_type": "code",
   "execution_count": 305,
   "metadata": {},
   "outputs": [],
   "source": [
    "def tensor_norm(st):\n",
    "    return (sum([x**2 for x in st.values.numpy()])**0.5)"
   ]
  },
  {
   "cell_type": "code",
   "execution_count": 355,
   "metadata": {},
   "outputs": [],
   "source": [
    "def difference_frobenius_norm(spt1, spt2):\n",
    "    idx1 = [tuple(s) for s in spt1.indices.numpy()]\n",
    "    idx2 = [tuple(s) for s in spt2.indices.numpy()]\n",
    "    val1 = spt1.values.numpy()\n",
    "    val2 = spt2.values.numpy() \n",
    "    s1 = {idx1[i]:val1[i] for i in range(len(idx1))}\n",
    "    s2 = {idx2[i]:val2[i] for i in range(len(idx2))}\n",
    "    sum_sq = 0;\n",
    "    for i in idx1:\n",
    "        if i in idx2:\n",
    "            sum_sq += (s1[i] - s2[i]) ** 2\n",
    "        else:\n",
    "            sum_sq += s1[i] ** 2\n",
    "    for i in idx2:\n",
    "        if i in idx1:\n",
    "            sum_sq += 0\n",
    "        else:\n",
    "            sum_sq += s2[i] ** 2\n",
    "    return sum_sq ** 0.5"
   ]
  },
  {
   "cell_type": "code",
   "execution_count": 356,
   "metadata": {},
   "outputs": [
    {
     "data": {
      "text/plain": [
       "<tensorflow.python.framework.sparse_tensor.SparseTensor at 0x7f6f33271610>"
      ]
     },
     "execution_count": 356,
     "metadata": {},
     "output_type": "execute_result"
    }
   ],
   "source": [
    "dst = generate_decomposable_sp_tensor([10,10,10,10], 12, d=0.2)\n",
    "dst"
   ]
  },
  {
   "cell_type": "code",
   "execution_count": 357,
   "metadata": {},
   "outputs": [
    {
     "data": {
      "text/plain": [
       "266.4400902819806"
      ]
     },
     "execution_count": 357,
     "metadata": {},
     "output_type": "execute_result"
    }
   ],
   "source": [
    "tensor_norm(dst)"
   ]
  },
  {
   "cell_type": "code",
   "execution_count": 358,
   "metadata": {},
   "outputs": [
    {
     "data": {
      "text/plain": [
       "<tensorflow.python.framework.sparse_tensor.SparseTensor at 0x7f6f30188610>"
      ]
     },
     "execution_count": 358,
     "metadata": {},
     "output_type": "execute_result"
    }
   ],
   "source": [
    "rst = generate_random_sp_tensor([10,10,10,10], d=0.2)\n",
    "rst"
   ]
  },
  {
   "cell_type": "code",
   "execution_count": 359,
   "metadata": {},
   "outputs": [
    {
     "data": {
      "text/plain": [
       "<tensorflow.python.framework.sparse_tensor.SparseTensor at 0x7f6f302b9910>"
      ]
     },
     "execution_count": 359,
     "metadata": {},
     "output_type": "execute_result"
    }
   ],
   "source": [
    "st = generate_sp_tensor([10,10,10,10], 12, d=0.2, decomposable=True)\n",
    "st"
   ]
  },
  {
   "cell_type": "code",
   "execution_count": 360,
   "metadata": {},
   "outputs": [
    {
     "data": {
      "text/plain": [
       "20.0"
      ]
     },
     "execution_count": 360,
     "metadata": {},
     "output_type": "execute_result"
    }
   ],
   "source": [
    "indices = [[1,0,0],[1,0,1],[1,0,2],[1,1,0],[1,1,1],[1,1,2],[2,0,0],[2,0,1],[2,0,2],[2,1,0],[2,1,1],[2,1,2],[3,0,0],[3,0,1],[3,0,2],[3,1,0],[3,1,1],[3,1,2]]\n",
    "values = [16.0, 12.0, 10.0, 64.0, 48.0, 40.0, 24.0, 18.0, 15.0, 96.0, 72.0, 60.0, 56.0, 42.0, 35.0, 224.0, 168.0, 140.0]\n",
    "shape = [4,2,3]\n",
    "\n",
    "st1 = tf.SparseTensor(indices=indices, values=values, dense_shape=shape)\n",
    "\n",
    "indices = [[0,0,0],[1,0,0],[1,0,1],[1,0,2],[1,1,0],[1,1,1],[1,1,2],[2,0,0],[2,0,1],[2,0,2],[2,1,0],[2,1,1],[2,1,2],[3,0,0],[3,0,1],[3,0,2],[3,1,0],[3,1,1],[3,1,2]]\n",
    "values = [12.0, 32.0, 12.0, 10.0, 64.0, 48.0, 40.0, 24.0, 18.0, 15.0, 96.0, 72.0, 60.0, 56.0, 42.0, 35.0, 224.0, 168.0, 140.0]\n",
    "shape = [4,2,3]\n",
    "\n",
    "st2 = tf.SparseTensor(indices=indices, values=values, dense_shape=shape)\n",
    "\n",
    "difference_frobenius_norm(st1, st2)"
   ]
  }
 ],
 "metadata": {
  "kernelspec": {
   "display_name": "Python 3",
   "language": "python",
   "name": "python3"
  },
  "language_info": {
   "codemirror_mode": {
    "name": "ipython",
    "version": 3
   },
   "file_extension": ".py",
   "mimetype": "text/x-python",
   "name": "python",
   "nbconvert_exporter": "python",
   "pygments_lexer": "ipython3",
   "version": "3.7.5"
  }
 },
 "nbformat": 4,
 "nbformat_minor": 2
}
