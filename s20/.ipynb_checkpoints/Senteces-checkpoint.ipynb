{
 "cells": [
  {
   "cell_type": "code",
   "execution_count": 41,
   "metadata": {},
   "outputs": [],
   "source": [
    "import nltk\n",
    "#nltk.download('stopwords') #only need to run this once really\n",
    "from nltk.corpus import stopwords"
   ]
  },
  {
   "cell_type": "code",
   "execution_count": 42,
   "metadata": {},
   "outputs": [
    {
     "name": "stdout",
     "output_type": "stream",
     "text": [
      "<_io.TextIOWrapper name='chpt1.txt' mode='r' encoding='UTF-8'>\n"
     ]
    }
   ],
   "source": [
    "f = open('chpt1.txt', 'r')\n",
    "print(f)\n",
    "text = f.read().replace('\\n', ' ').lower()\n",
    "sw = set(stopwords.words('english'))"
   ]
  },
  {
   "cell_type": "code",
   "execution_count": 43,
   "metadata": {},
   "outputs": [
    {
     "data": {
      "text/plain": [
       "['it was the best of times, it was the worst of times, it was the age of wisdom, it was the age of foolishness, it was the epoch of belief, it was the epoch of incredulity, it was the season of light, it was the season of darkness, it was the spring of hope, it was the winter of despair, we had everything before us, we had nothing before us, we were all going direct to heaven, we were all going direct the other way-- in short, the period was so far like the present period, that some of its noisiest authorities insisted on its being received, for good or for evil, in the superlative degree of comparison only',\n",
       " '  there were a king with a large jaw and a queen with a plain face, on the throne of england; there were a king with a large jaw and a queen with a fair face, on the throne of france',\n",
       " ' in both countries it was clearer than crystal to the lords of the state preserves of loaves and fishes, that things in general were settled for ever',\n",
       " '  it was the year of our lord one thousand seven hundred and seventy-five',\n",
       " ' spiritual revelations were conceded to england at that favoured period, as at this',\n",
       " ' mrs southcott had recently attained her five-and-twentieth blessed birthday, of whom a prophetic private in the life guards had heralded the sublime appearance by announcing that arrangements were made for the swallowing up of london and westminster',\n",
       " ' even the cock-lane ghost had been laid only a round dozen of years, after rapping out its messages, as the spirits of this very year last past (supernaturally deficient in originality) rapped out theirs',\n",
       " ' mere messages in the earthly order of events had lately come to the english crown and people, from a congress of british subjects in america: which, strange to relate, have proved more important to the human race than any communications yet received through any of the chickens of the cock-lane brood',\n",
       " '  france, less favoured on the whole as to matters spiritual than her sister of the shield and trident, rolled with exceeding smoothness down hill, making paper money and spending it',\n",
       " ' under the guidance of her christian pastors, she entertained herself, besides, with such humane achievements as sentencing a youth to have his hands cut off, his tongue torn out with pincers, and his body burned alive, because he had not kneeled down in the rain to do honour to a dirty procession of monks which passed within his view, at a distance of some fifty or sixty yards',\n",
       " ' it is likely enough that, rooted in the woods of france and norway, there were growing trees, when that sufferer was put to death, already marked by the woodman, fate, to come down and be sawn into boards, to make a certain movable framework with a sack and a knife in it, terrible in history',\n",
       " ' it is likely enough that in the rough outhouses of some tillers of the heavy lands adjacent to paris, there were sheltered from the weather that very day, rude carts, bespattered with rustic mire, snuffed about by pigs, and roosted in by poultry, which the farmer, death, had already set apart to be his tumbrils of the revolution',\n",
       " ' but that woodman and that farmer, though they work unceasingly, work silently, and no one heard them as they went about with muffled tread: the rather, forasmuch as to entertain any suspicion that they were awake, was to be atheistical and traitorous',\n",
       " '  in england, there was scarcely an amount of order and protection to justify much national boasting',\n",
       " \" daring burglaries by armed men, and highway robberies, took place in the capital itself every night; families were publicly cautioned not to go out of town without removing their furniture to upholsterers' warehouses for security; the highwayman in the dark was a city tradesman in the light, and, being recognised and challenged by his fellow-tradesman whom he stopped in his character of “the captain,” gallantly shot him through the head and rode away; the mail was waylaid by seven robbers, and the guard shot three dead, and then got shot dead himself by the other four, “in consequence of the failure of his ammunition:” after which the mail was robbed in peace; that magnificent potentate, the lord mayor of london, was made to stand and deliver on turnham green, by one highwayman, who despoiled the illustrious creature in sight of all his retinue; prisoners in london gaols fought battles with their turnkeys, and the majesty of the law fired blunderbusses in among them, loaded with rounds of shot and ball; thieves snipped off diamond crosses from the necks of noble lords at court drawing-rooms; musketeers went into st\",\n",
       " \" giles's, to search for contraband goods, and the mob fired on the musketeers, and the musketeers fired on the mob, and nobody thought any of these occurrences much out of the common way\",\n",
       " \" in the midst of them, the hangman, ever busy and ever worse than useless, was in constant requisition; now, stringing up long rows of miscellaneous criminals; now, hanging a housebreaker on saturday who had been taken on tuesday; now, burning people in the hand at newgate by the dozen, and now burning pamphlets at the door of westminster hall; to-day, taking the life of an atrocious murderer, and to-morrow of a wretched pilferer who had robbed a farmer's boy of sixpence\",\n",
       " '  all these things, and a thousand like them, came to pass in and close upon the dear old year one thousand seven hundred and seventy-five',\n",
       " ' environed by them, while the woodman and the farmer worked unheeded, those two of the large jaws, and those other two of the plain and the fair faces, trod with stir enough, and carried their divine rights with a high hand',\n",
       " ' thus did the year one thousand seven hundred and seventy-five conduct their greatnesses, and myriads of small creatures--the creatures of this chronicle among the rest--along the roads that lay before them',\n",
       " '']"
      ]
     },
     "execution_count": 43,
     "metadata": {},
     "output_type": "execute_result"
    }
   ],
   "source": [
    "\n",
    "sentences"
   ]
  },
  {
   "cell_type": "code",
   "execution_count": 44,
   "metadata": {},
   "outputs": [
    {
     "data": {
      "text/plain": [
       "['best times, worst times, age wisdom, age foolishness, epoch belief, epoch incredulity, season light, season darkness, spring hope, winter despair, everything us, nothing us, going direct heaven, going direct way-- short, period far like present period, noisiest authorities insisted received, good evil, superlative degree comparison ',\n",
       " '  king large jaw queen plain face, throne england; king large jaw queen fair face, throne france ',\n",
       " ' countries clearer crystal lords state preserves loaves fishes, things general settled ever ',\n",
       " '  year lord one thousand seven hundred seventy-five ',\n",
       " ' spiritual revelations conceded england favoured period, ',\n",
       " ' mrs southcott recently attained five-and-twentieth blessed birthday, prophetic private life guards heralded sublime appearance announcing arrangements made swallowing london westminster ',\n",
       " ' even cock-lane ghost laid round dozen years, rapping messages, spirits year last past (supernaturally deficient originality) rapped ',\n",
       " ' mere messages earthly order events lately come english crown people, congress british subjects america: which, strange relate, proved important human race communications yet received chickens cock-lane brood ',\n",
       " '  france, less favoured whole matters spiritual sister shield trident, rolled exceeding smoothness hill, making paper money spending ',\n",
       " ' guidance christian pastors, entertained herself, besides, humane achievements sentencing youth hands cut off, tongue torn pincers, body burned alive, kneeled rain honour dirty procession monks passed within view, distance fifty sixty yards ',\n",
       " ' likely enough that, rooted woods france norway, growing trees, sufferer put death, already marked woodman, fate, come sawn boards, make certain movable framework sack knife it, terrible history ',\n",
       " ' likely enough rough outhouses tillers heavy lands adjacent paris, sheltered weather day, rude carts, bespattered rustic mire, snuffed pigs, roosted poultry, farmer, death, already set apart tumbrils revolution ',\n",
       " ' woodman farmer, though work unceasingly, work silently, one heard went muffled tread: rather, forasmuch entertain suspicion awake, atheistical traitorous ',\n",
       " '  england, scarcely amount order protection justify much national boasting ',\n",
       " \" daring burglaries armed men, highway robberies, took place capital every night; families publicly cautioned go town without removing furniture upholsterers' warehouses security; highwayman dark city tradesman light, and, recognised challenged fellow-tradesman stopped character “the captain,” gallantly shot head rode away; mail waylaid seven robbers, guard shot three dead, got shot dead four, “in consequence failure ammunition:” mail robbed peace; magnificent potentate, lord mayor london, made stand deliver turnham green, one highwayman, despoiled illustrious creature sight retinue; prisoners london gaols fought battles turnkeys, majesty law fired blunderbusses among them, loaded rounds shot ball; thieves snipped diamond crosses necks noble lords court drawing-rooms; musketeers went st \",\n",
       " \" giles's, search contraband goods, mob fired musketeers, musketeers fired mob, nobody thought occurrences much common way \",\n",
       " \" midst them, hangman, ever busy ever worse useless, constant requisition; now, stringing long rows miscellaneous criminals; now, hanging housebreaker saturday taken tuesday; now, burning people hand newgate dozen, burning pamphlets door westminster hall; to-day, taking life atrocious murderer, to-morrow wretched pilferer robbed farmer's boy sixpence \",\n",
       " '  things, thousand like them, came pass close upon dear old year one thousand seven hundred seventy-five ',\n",
       " ' environed them, woodman farmer worked unheeded, two large jaws, two plain fair faces, trod stir enough, carried divine rights high hand ',\n",
       " ' thus year one thousand seven hundred seventy-five conduct greatnesses, myriads small creatures--the creatures chronicle among rest--along roads lay ',\n",
       " ' ']"
      ]
     },
     "execution_count": 44,
     "metadata": {},
     "output_type": "execute_result"
    }
   ],
   "source": [
    "sentences = text.split('.')\n",
    "wo_stopwords = []\n",
    "for s in sentences:\n",
    "    temp = \"\"\n",
    "    words = s.split(\" \")\n",
    "    for w in words:\n",
    "        if w not in sw:\n",
    "            temp += w\n",
    "            temp += \" \"\n",
    "#     print(temp)\n",
    "    wo_stopwords.append(temp)\n",
    "wo_stopwords"
   ]
  },
  {
   "cell_type": "code",
   "execution_count": null,
   "metadata": {},
   "outputs": [],
   "source": []
  }
 ],
 "metadata": {
  "kernelspec": {
   "display_name": "Python 3",
   "language": "python",
   "name": "python3"
  },
  "language_info": {
   "codemirror_mode": {
    "name": "ipython",
    "version": 3
   },
   "file_extension": ".py",
   "mimetype": "text/x-python",
   "name": "python",
   "nbconvert_exporter": "python",
   "pygments_lexer": "ipython3",
   "version": "3.7.5"
  }
 },
 "nbformat": 4,
 "nbformat_minor": 2
}
