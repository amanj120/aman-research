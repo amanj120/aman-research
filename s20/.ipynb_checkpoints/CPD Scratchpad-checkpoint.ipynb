{
 "cells": [
  {
   "cell_type": "code",
   "execution_count": 1,
   "metadata": {},
   "outputs": [
    {
     "name": "stderr",
     "output_type": "stream",
     "text": [
      "/home/aman/.local/lib/python3.7/site-packages/tensorflow/python/framework/dtypes.py:516: FutureWarning: Passing (type, 1) or '1type' as a synonym of type is deprecated; in a future version of numpy, it will be understood as (type, (1,)) / '(1,)type'.\n",
      "  _np_qint8 = np.dtype([(\"qint8\", np.int8, 1)])\n",
      "/home/aman/.local/lib/python3.7/site-packages/tensorflow/python/framework/dtypes.py:517: FutureWarning: Passing (type, 1) or '1type' as a synonym of type is deprecated; in a future version of numpy, it will be understood as (type, (1,)) / '(1,)type'.\n",
      "  _np_quint8 = np.dtype([(\"quint8\", np.uint8, 1)])\n",
      "/home/aman/.local/lib/python3.7/site-packages/tensorflow/python/framework/dtypes.py:518: FutureWarning: Passing (type, 1) or '1type' as a synonym of type is deprecated; in a future version of numpy, it will be understood as (type, (1,)) / '(1,)type'.\n",
      "  _np_qint16 = np.dtype([(\"qint16\", np.int16, 1)])\n",
      "/home/aman/.local/lib/python3.7/site-packages/tensorflow/python/framework/dtypes.py:519: FutureWarning: Passing (type, 1) or '1type' as a synonym of type is deprecated; in a future version of numpy, it will be understood as (type, (1,)) / '(1,)type'.\n",
      "  _np_quint16 = np.dtype([(\"quint16\", np.uint16, 1)])\n",
      "/home/aman/.local/lib/python3.7/site-packages/tensorflow/python/framework/dtypes.py:520: FutureWarning: Passing (type, 1) or '1type' as a synonym of type is deprecated; in a future version of numpy, it will be understood as (type, (1,)) / '(1,)type'.\n",
      "  _np_qint32 = np.dtype([(\"qint32\", np.int32, 1)])\n",
      "/home/aman/.local/lib/python3.7/site-packages/tensorflow/python/framework/dtypes.py:525: FutureWarning: Passing (type, 1) or '1type' as a synonym of type is deprecated; in a future version of numpy, it will be understood as (type, (1,)) / '(1,)type'.\n",
      "  np_resource = np.dtype([(\"resource\", np.ubyte, 1)])\n",
      "/home/aman/.local/lib/python3.7/site-packages/tensorboard/compat/tensorflow_stub/dtypes.py:541: FutureWarning: Passing (type, 1) or '1type' as a synonym of type is deprecated; in a future version of numpy, it will be understood as (type, (1,)) / '(1,)type'.\n",
      "  _np_qint8 = np.dtype([(\"qint8\", np.int8, 1)])\n",
      "/home/aman/.local/lib/python3.7/site-packages/tensorboard/compat/tensorflow_stub/dtypes.py:542: FutureWarning: Passing (type, 1) or '1type' as a synonym of type is deprecated; in a future version of numpy, it will be understood as (type, (1,)) / '(1,)type'.\n",
      "  _np_quint8 = np.dtype([(\"quint8\", np.uint8, 1)])\n",
      "/home/aman/.local/lib/python3.7/site-packages/tensorboard/compat/tensorflow_stub/dtypes.py:543: FutureWarning: Passing (type, 1) or '1type' as a synonym of type is deprecated; in a future version of numpy, it will be understood as (type, (1,)) / '(1,)type'.\n",
      "  _np_qint16 = np.dtype([(\"qint16\", np.int16, 1)])\n",
      "/home/aman/.local/lib/python3.7/site-packages/tensorboard/compat/tensorflow_stub/dtypes.py:544: FutureWarning: Passing (type, 1) or '1type' as a synonym of type is deprecated; in a future version of numpy, it will be understood as (type, (1,)) / '(1,)type'.\n",
      "  _np_quint16 = np.dtype([(\"quint16\", np.uint16, 1)])\n",
      "/home/aman/.local/lib/python3.7/site-packages/tensorboard/compat/tensorflow_stub/dtypes.py:545: FutureWarning: Passing (type, 1) or '1type' as a synonym of type is deprecated; in a future version of numpy, it will be understood as (type, (1,)) / '(1,)type'.\n",
      "  _np_qint32 = np.dtype([(\"qint32\", np.int32, 1)])\n",
      "/home/aman/.local/lib/python3.7/site-packages/tensorboard/compat/tensorflow_stub/dtypes.py:550: FutureWarning: Passing (type, 1) or '1type' as a synonym of type is deprecated; in a future version of numpy, it will be understood as (type, (1,)) / '(1,)type'.\n",
      "  np_resource = np.dtype([(\"resource\", np.ubyte, 1)])\n"
     ]
    }
   ],
   "source": [
    "import tensorflow as tf;\n",
    "import numpy as np;\n",
    "from tensorly import decomposition;\n",
    "import tensorly;"
   ]
  },
  {
   "cell_type": "code",
   "execution_count": 2,
   "metadata": {},
   "outputs": [],
   "source": [
    "tf.enable_eager_execution()"
   ]
  },
  {
   "cell_type": "code",
   "execution_count": 3,
   "metadata": {},
   "outputs": [],
   "source": [
    "def base(v1,v2,v3):\n",
    "    ret = np.zeros((len(v1),len(v2),len(v3)))\n",
    "    return ret;\n",
    "\n",
    "def expand(v1,v2,v3):\n",
    "    b = base(v1,v2,v3)\n",
    "    for i in range(len(v1)):\n",
    "        for j in range(len(v2)):\n",
    "            for k in range(len(v3)):\n",
    "                b[i][j][k] = v1[i] * v2[j] * v3[k]\n",
    "    return b"
   ]
  },
  {
   "cell_type": "code",
   "execution_count": 4,
   "metadata": {},
   "outputs": [
    {
     "data": {
      "text/plain": [
       "'1.14.0'"
      ]
     },
     "execution_count": 4,
     "metadata": {},
     "output_type": "execute_result"
    }
   ],
   "source": [
    "tf.__version__"
   ]
  },
  {
   "cell_type": "code",
   "execution_count": 5,
   "metadata": {},
   "outputs": [],
   "source": [
    "init_factors = ([1,2],[0,1,1,0],[2,3,4])\n",
    "init_arr = expand(init_factors[0],init_factors[1], init_factors[2])"
   ]
  },
  {
   "cell_type": "code",
   "execution_count": 6,
   "metadata": {},
   "outputs": [
    {
     "data": {
      "text/plain": [
       "array([[[0., 0., 0.],\n",
       "        [2., 3., 4.],\n",
       "        [2., 3., 4.],\n",
       "        [0., 0., 0.]],\n",
       "\n",
       "       [[0., 0., 0.],\n",
       "        [4., 6., 8.],\n",
       "        [4., 6., 8.],\n",
       "        [0., 0., 0.]]])"
      ]
     },
     "execution_count": 6,
     "metadata": {},
     "output_type": "execute_result"
    }
   ],
   "source": [
    "init_arr"
   ]
  },
  {
   "cell_type": "code",
   "execution_count": 7,
   "metadata": {},
   "outputs": [],
   "source": [
    "tensorly.set_backend('numpy')\n",
    "t_cp = decomposition.parafac(init_arr,1)"
   ]
  },
  {
   "cell_type": "code",
   "execution_count": 8,
   "metadata": {},
   "outputs": [
    {
     "data": {
      "text/plain": [
       "[array([[ -7.61577311],\n",
       "        [-15.23154621]]), array([[0.        ],\n",
       "        [0.70710678],\n",
       "        [0.70710678],\n",
       "        [0.        ]]), array([[-0.37139068],\n",
       "        [-0.55708601],\n",
       "        [-0.74278135]])]"
      ]
     },
     "execution_count": 8,
     "metadata": {},
     "output_type": "execute_result"
    }
   ],
   "source": [
    "t_cp.factors"
   ]
  },
  {
   "cell_type": "code",
   "execution_count": 9,
   "metadata": {},
   "outputs": [
    {
     "ename": "NameError",
     "evalue": "name 'get_expand_arr' is not defined",
     "output_type": "error",
     "traceback": [
      "\u001b[0;31m---------------------------------------------------------------------------\u001b[0m",
      "\u001b[0;31mNameError\u001b[0m                                 Traceback (most recent call last)",
      "\u001b[0;32m<ipython-input-9-3f8b2d18788c>\u001b[0m in \u001b[0;36m<module>\u001b[0;34m\u001b[0m\n\u001b[0;32m----> 1\u001b[0;31m \u001b[0mget_expand_arr\u001b[0m\u001b[0;34m(\u001b[0m\u001b[0mt_cp\u001b[0m\u001b[0;34m.\u001b[0m\u001b[0mfactors\u001b[0m\u001b[0;34m)\u001b[0m\u001b[0;34m\u001b[0m\u001b[0;34m\u001b[0m\u001b[0m\n\u001b[0m",
      "\u001b[0;31mNameError\u001b[0m: name 'get_expand_arr' is not defined"
     ]
    }
   ],
   "source": [
    "get_expand_arr(t_cp.factors)"
   ]
  },
  {
   "cell_type": "code",
   "execution_count": 10,
   "metadata": {},
   "outputs": [],
   "source": [
    "indices = [[1,0,0],[1,0,1],[1,0,2],[1,1,0],[1,1,1],[1,1,2],[2,0,0],[2,0,1],[2,0,2],[2,1,0],[2,1,1],[2,1,2],[3,0,0],[3,0,1],[3,0,2],[3,1,0],[3,1,1],[3,1,2]]\n",
    "values = [16.0, 12.0, 10.0, 64.0, 48.0, 40.0, 24.0, 18.0, 15.0, 96.0, 72.0, 60.0, 56.0, 42.0, 35.0, 224.0, 168.0, 140.0]\n",
    "shape = [4,2,3]\n",
    "\n",
    "st = tf.SparseTensor(indices=indices, values=values, dense_shape=shape)"
   ]
  },
  {
   "cell_type": "code",
   "execution_count": 11,
   "metadata": {},
   "outputs": [
    {
     "data": {
      "text/plain": [
       "'numpy'"
      ]
     },
     "execution_count": 11,
     "metadata": {},
     "output_type": "execute_result"
    }
   ],
   "source": [
    "tensorly.get_backend()"
   ]
  },
  {
   "cell_type": "code",
   "execution_count": 12,
   "metadata": {},
   "outputs": [],
   "source": [
    "tensorly.set_backend('tensorflow')"
   ]
  },
  {
   "cell_type": "code",
   "execution_count": 13,
   "metadata": {},
   "outputs": [],
   "source": [
    "dt = tf.constant([[[0., 0., 0.],\n",
    "        [2., 3., 4.],\n",
    "        [2., 3., 4.],\n",
    "        [0., 0., 0.]],\n",
    "\n",
    "       [[0., 0., 0.],\n",
    "        [4., 6., 8.],\n",
    "        [4., 6., 8.],\n",
    "        [0., 0., 0.]]])"
   ]
  },
  {
   "cell_type": "code",
   "execution_count": 14,
   "metadata": {},
   "outputs": [],
   "source": [
    "dt_cp = decomposition.parafac(dt,1)"
   ]
  },
  {
   "cell_type": "code",
   "execution_count": 15,
   "metadata": {},
   "outputs": [
    {
     "data": {
      "text/plain": [
       "[<tf.Tensor: id=449, shape=(2, 1), dtype=float32, numpy=\n",
       " array([[ -7.615774],\n",
       "        [-15.231548]], dtype=float32)>,\n",
       " <tf.Tensor: id=532, shape=(4, 1), dtype=float32, numpy=\n",
       " array([[0.       ],\n",
       "        [0.7071067],\n",
       "        [0.7071067],\n",
       "        [0.       ]], dtype=float32)>,\n",
       " <tf.Tensor: id=615, shape=(3, 1), dtype=float32, numpy=\n",
       " array([[-0.37139073],\n",
       "        [-0.55708605],\n",
       "        [-0.74278146]], dtype=float32)>]"
      ]
     },
     "execution_count": 15,
     "metadata": {},
     "output_type": "execute_result"
    }
   ],
   "source": [
    "dt_cp.factors"
   ]
  },
  {
   "cell_type": "code",
   "execution_count": 16,
   "metadata": {},
   "outputs": [],
   "source": [
    "import tensorly.contrib.sparse.decomposition as sp_decomp\n",
    "#http://tensorly.org/dev/modules/generated/tensorly.contrib.sparse.decomposition.parafac.html#tensorly.contrib.sparse.decomposition.parafac"
   ]
  },
  {
   "cell_type": "code",
   "execution_count": 17,
   "metadata": {},
   "outputs": [],
   "source": [
    "import sparse"
   ]
  },
  {
   "cell_type": "code",
   "execution_count": 18,
   "metadata": {},
   "outputs": [],
   "source": [
    "#tensorly.set_backend('tensorflow') \n",
    "#ValueError: Unknown backend name 'tensorflow', known backends are ['numpy']\n",
    "#unsupported operand type(s) for ** or pow(): 'SparseTensor' and 'int'\n",
    "#tensorly.set_backend('numpy')\n",
    "#sp_decomp.parafac(st,1) #doesn't work for tensorflow"
   ]
  },
  {
   "cell_type": "code",
   "execution_count": 19,
   "metadata": {},
   "outputs": [],
   "source": [
    "#tensorly.set_backend('numpy')\n",
    "#sp_decomp.parafac(init_arr,1)\n",
    "#ValueError: All arrays must be instances of SparseArray."
   ]
  },
  {
   "cell_type": "code",
   "execution_count": 20,
   "metadata": {},
   "outputs": [],
   "source": [
    "nd = 3\n",
    "dims = (4,2,3)"
   ]
  },
  {
   "cell_type": "code",
   "execution_count": 21,
   "metadata": {},
   "outputs": [],
   "source": [
    "from tensorly.tenalg import khatri_rao\n",
    "from tensorly.base import unfold\n",
    "\n",
    "def hadamard(m1, m2):\n",
    "    if m1.shape != m2.shape:\n",
    "        return None\n",
    "    else:\n",
    "        ret = np.ndarray(m1.shape)\n",
    "        for i in range(len(m1)):\n",
    "            for j in range(len(m1[i])):\n",
    "                ret[i][j] = m1[i][j] * m2[i][j]\n",
    "        return ret\n",
    "\n",
    "def gen_had(matrices, skip_matrix = -1):\n",
    "    #matrices is a list of matrices\n",
    "    shp = matrices[0].shape\n",
    "    for m in matrices: \n",
    "        if m.shape != shp:\n",
    "            return None\n",
    "    ret = np.ndarray(shp)\n",
    "    for i in range(shp[0]):\n",
    "        for j in range(shp[1]):\n",
    "            prod = 1\n",
    "            for num,k in enumerate(matrices):\n",
    "                if(num != skip_matrix):\n",
    "                    prod *= k[i][j]\n",
    "                    if prod == 0: #just a lil optimization\n",
    "                        break;\n",
    "            ret[i][j] = prod\n",
    "    return ret\n",
    "#Doing numpy.ndarray.T returns the transpose\n",
    "#Doing numpy.matmul(m1,m2) multiples m1 w m2\n",
    "#Doing unfold(X, i) does a mode i unfolding of tensor X\n",
    "#Doing khatri_rao(m1,m2) does khatri rao product of m1, m2\n",
    "#Doing hadamard(m1,m2) does hadamard product of m1, m2\n",
    "#How to do moore-penrose pseudoinverse?"
   ]
  },
  {
   "cell_type": "code",
   "execution_count": 22,
   "metadata": {},
   "outputs": [],
   "source": [
    "def calc_indices(t, dims, n):\n",
    "    #t is the target row we want (zero indexed)\n",
    "    #dims is the dimensions of the tensor\n",
    "    #n is the factor matrix we dont want to include\n",
    "    \n",
    "    #first get cumulative products on our factors\n",
    "    prods = [1]\n",
    "    nd = len(dims)\n",
    "    for i in range(nd-1,-1,-1):\n",
    "        if i!=n:\n",
    "            p = prods[-1] * dims[i]\n",
    "            prods.append(p)\n",
    "    prods.reverse()\n",
    "    prods = prods[1:]\n",
    "    #now we have our product of dimensions array\n",
    "    print(\"Product of dimensions, excluding dimension {}: {}\".format(n, prods))\n",
    "    ret = [] #the coefficients of the thingy we want\n",
    "    for i in range(nd - 1):\n",
    "        n = t // prods[i];\n",
    "        ret.append(n)\n",
    "        t -= (prods[i] * n)\n",
    "    return ret"
   ]
  },
  {
   "cell_type": "code",
   "execution_count": 23,
   "metadata": {},
   "outputs": [
    {
     "name": "stdout",
     "output_type": "stream",
     "text": [
      "Product of dimensions, excluding dimension 2: [12, 3, 1]\n"
     ]
    },
    {
     "data": {
      "text/plain": [
       "[1, 3, 0]"
      ]
     },
     "execution_count": 23,
     "metadata": {},
     "output_type": "execute_result"
    }
   ],
   "source": [
    "calc_indices(21,[2,4,7,3],2) #should give us [1,3,0]"
   ]
  },
  {
   "cell_type": "code",
   "execution_count": 24,
   "metadata": {},
   "outputs": [],
   "source": [
    "def KR_at_ij(factors, i, j, dims, n):\n",
    "    #dims is the list of dimensions, factors is the actual factor matrix, \n",
    "    #factors is the list of all factor matrices\n",
    "    product = 1\n",
    "    i_vals = calc_indices(i, dims, n)\n",
    "    for num, factor in enumerate(factors):\n",
    "        if num == n:\n",
    "            pass\n",
    "        if num < n:\n",
    "            product *= factors[num][i_vals[num]][j]\n",
    "        if num > n:\n",
    "            product *= factors[num][i_vals[num-1]][j]\n",
    "    return product"
   ]
  },
  {
   "cell_type": "code",
   "execution_count": 25,
   "metadata": {},
   "outputs": [],
   "source": [
    "def find_index_unfolded(dims, n, idx):\n",
    "    #finds the coordinates of the unfolded tensor element given the coordinates of the not-unfolded tensor\n",
    "    j = 0;\n",
    "    nd = len(dims)\n",
    "    prod = 1;\n",
    "    for i in range(nd):\n",
    "        if i != n:\n",
    "            j += idx[i] * prod\n",
    "            prod *= dims[i]\n",
    "    return (idx[n], j)"
   ]
  },
  {
   "cell_type": "code",
   "execution_count": 26,
   "metadata": {},
   "outputs": [
    {
     "name": "stdout",
     "output_type": "stream",
     "text": [
      "(1, 6)\n",
      "(2, 4)\n",
      "(1, 7)\n"
     ]
    }
   ],
   "source": [
    "print(find_index_unfolded([3,4,2], 0, [1,2,1])) #(1,6)\n",
    "print(find_index_unfolded([3,4,2], 1, [1,2,1])) #(2,4)\n",
    "print(find_index_unfolded([3,4,2], 2, [1,2,1])) #(1,7)"
   ]
  },
  {
   "cell_type": "code",
   "execution_count": 31,
   "metadata": {},
   "outputs": [],
   "source": [
    "def MTTKRP(X, factors, n,rank,dims):\n",
    "    #X is the tensorflow SPTensor, factors is a list of \n",
    "    '''\n",
    "    Matricized Tensor Times Khatri Rao Product in place:\n",
    "    go through all the indices in X, and figure out their corresponding place in the mode n unfolding\n",
    "    Also, given all the factors, we need to figure out where they belong in the khatri rao product\n",
    "    and then we hvae to multiply\n",
    "    good news is that matrix multiplication is additive so we can just kinda do stuff\n",
    "    unfolded tensor is of size: \n",
    "        I_n x (I_1 * ... I_n-1 * I_n+1 * ... I_N)\n",
    "    The khatri rao product is of size:\n",
    "        (I_1 * ... I_n-1 * I_n+1 * ... I_N) * rank\n",
    "    '''\n",
    "    # we will go through all of the indices on the tensor\n",
    "    # figure out the matricized index: get X[i,j], get KR[j,0]...KR[j,r-1]\n",
    "    # output[i,0] += X[i,j] * KR[j,0]\n",
    "    # output[i,1] += X[i,j] * KR[j,1]...\n",
    "    output = np.zeros((dims[n],rank))\n",
    "#     indices = X.indices.numpy()\n",
    "#     values = X.values.numpy()\n",
    "    for i,idx in enumerate(X.indices.numpy()):\n",
    "        ij = find_index_unfolded(dims, n, idx)\n",
    "        print(\"{}\\t{} {} {}\".format(i,idx,X.values.numpy()[i],ij))\n",
    "        val = X.values.numpy()[i]\n",
    "        for r in range(rank):\n",
    "            output[ij[0]][r] += val * KR_at_ij(factors,ij[1],r,dims,n)\n",
    "    "
   ]
  },
  {
   "cell_type": "code",
   "execution_count": 32,
   "metadata": {},
   "outputs": [
    {
     "name": "stdout",
     "output_type": "stream",
     "text": [
      "0\t[1 0 0] 16.0 (1, 0)\n",
      "Product of dimensions, excluding dimension 0: [3, 1]\n"
     ]
    },
    {
     "ename": "TypeError",
     "evalue": "can't multiply sequence by non-int of type 'str'",
     "output_type": "error",
     "traceback": [
      "\u001b[0;31m---------------------------------------------------------------------------\u001b[0m",
      "\u001b[0;31mTypeError\u001b[0m                                 Traceback (most recent call last)",
      "\u001b[0;32m<ipython-input-32-4e1042d62350>\u001b[0m in \u001b[0;36m<module>\u001b[0;34m\u001b[0m\n\u001b[0;32m----> 1\u001b[0;31m \u001b[0mMTTKRP\u001b[0m\u001b[0;34m(\u001b[0m\u001b[0mst\u001b[0m\u001b[0;34m,\u001b[0m\u001b[0;34m\"hello\"\u001b[0m\u001b[0;34m,\u001b[0m \u001b[0;36m0\u001b[0m\u001b[0;34m,\u001b[0m\u001b[0;36m2\u001b[0m\u001b[0;34m,\u001b[0m\u001b[0;34m[\u001b[0m\u001b[0;36m4\u001b[0m\u001b[0;34m,\u001b[0m\u001b[0;36m2\u001b[0m\u001b[0;34m,\u001b[0m\u001b[0;36m3\u001b[0m\u001b[0;34m]\u001b[0m\u001b[0;34m)\u001b[0m\u001b[0;34m\u001b[0m\u001b[0;34m\u001b[0m\u001b[0m\n\u001b[0m",
      "\u001b[0;32m<ipython-input-31-03722654b897>\u001b[0m in \u001b[0;36mMTTKRP\u001b[0;34m(X, factors, n, rank, dims)\u001b[0m\n\u001b[1;32m     24\u001b[0m         \u001b[0mval\u001b[0m \u001b[0;34m=\u001b[0m \u001b[0mX\u001b[0m\u001b[0;34m.\u001b[0m\u001b[0mvalues\u001b[0m\u001b[0;34m.\u001b[0m\u001b[0mnumpy\u001b[0m\u001b[0;34m(\u001b[0m\u001b[0;34m)\u001b[0m\u001b[0;34m[\u001b[0m\u001b[0mi\u001b[0m\u001b[0;34m]\u001b[0m\u001b[0;34m\u001b[0m\u001b[0;34m\u001b[0m\u001b[0m\n\u001b[1;32m     25\u001b[0m         \u001b[0;32mfor\u001b[0m \u001b[0mr\u001b[0m \u001b[0;32min\u001b[0m \u001b[0mrange\u001b[0m\u001b[0;34m(\u001b[0m\u001b[0mrank\u001b[0m\u001b[0;34m)\u001b[0m\u001b[0;34m:\u001b[0m\u001b[0;34m\u001b[0m\u001b[0;34m\u001b[0m\u001b[0m\n\u001b[0;32m---> 26\u001b[0;31m             \u001b[0moutput\u001b[0m\u001b[0;34m[\u001b[0m\u001b[0mij\u001b[0m\u001b[0;34m[\u001b[0m\u001b[0;36m0\u001b[0m\u001b[0;34m]\u001b[0m\u001b[0;34m]\u001b[0m\u001b[0;34m[\u001b[0m\u001b[0mr\u001b[0m\u001b[0;34m]\u001b[0m \u001b[0;34m+=\u001b[0m \u001b[0mval\u001b[0m \u001b[0;34m*\u001b[0m \u001b[0mKR_at_ij\u001b[0m\u001b[0;34m(\u001b[0m\u001b[0mfactors\u001b[0m\u001b[0;34m,\u001b[0m\u001b[0mij\u001b[0m\u001b[0;34m[\u001b[0m\u001b[0;36m1\u001b[0m\u001b[0;34m]\u001b[0m\u001b[0;34m,\u001b[0m\u001b[0mr\u001b[0m\u001b[0;34m,\u001b[0m\u001b[0mdims\u001b[0m\u001b[0;34m,\u001b[0m\u001b[0mn\u001b[0m\u001b[0;34m)\u001b[0m\u001b[0;34m\u001b[0m\u001b[0;34m\u001b[0m\u001b[0m\n\u001b[0m\u001b[1;32m     27\u001b[0m \u001b[0;34m\u001b[0m\u001b[0m\n",
      "\u001b[0;32m<ipython-input-24-3d7c9f191781>\u001b[0m in \u001b[0;36mKR_at_ij\u001b[0;34m(factors, i, j, dims, n)\u001b[0m\n\u001b[1;32m     10\u001b[0m             \u001b[0mproduct\u001b[0m \u001b[0;34m*=\u001b[0m \u001b[0mfactors\u001b[0m\u001b[0;34m[\u001b[0m\u001b[0mnum\u001b[0m\u001b[0;34m]\u001b[0m\u001b[0;34m[\u001b[0m\u001b[0mi_vals\u001b[0m\u001b[0;34m[\u001b[0m\u001b[0mnum\u001b[0m\u001b[0;34m]\u001b[0m\u001b[0;34m]\u001b[0m\u001b[0;34m[\u001b[0m\u001b[0mj\u001b[0m\u001b[0;34m]\u001b[0m\u001b[0;34m\u001b[0m\u001b[0;34m\u001b[0m\u001b[0m\n\u001b[1;32m     11\u001b[0m         \u001b[0;32mif\u001b[0m \u001b[0mnum\u001b[0m \u001b[0;34m>\u001b[0m \u001b[0mn\u001b[0m\u001b[0;34m:\u001b[0m\u001b[0;34m\u001b[0m\u001b[0;34m\u001b[0m\u001b[0m\n\u001b[0;32m---> 12\u001b[0;31m             \u001b[0mproduct\u001b[0m \u001b[0;34m*=\u001b[0m \u001b[0mfactors\u001b[0m\u001b[0;34m[\u001b[0m\u001b[0mnum\u001b[0m\u001b[0;34m]\u001b[0m\u001b[0;34m[\u001b[0m\u001b[0mi_vals\u001b[0m\u001b[0;34m[\u001b[0m\u001b[0mnum\u001b[0m\u001b[0;34m-\u001b[0m\u001b[0;36m1\u001b[0m\u001b[0;34m]\u001b[0m\u001b[0;34m]\u001b[0m\u001b[0;34m[\u001b[0m\u001b[0mj\u001b[0m\u001b[0;34m]\u001b[0m\u001b[0;34m\u001b[0m\u001b[0;34m\u001b[0m\u001b[0m\n\u001b[0m\u001b[1;32m     13\u001b[0m     \u001b[0;32mreturn\u001b[0m \u001b[0mproduct\u001b[0m\u001b[0;34m\u001b[0m\u001b[0;34m\u001b[0m\u001b[0m\n",
      "\u001b[0;31mTypeError\u001b[0m: can't multiply sequence by non-int of type 'str'"
     ]
    }
   ],
   "source": [
    "MTTKRP(st,\"hello\", 0,2,[4,2,3])"
   ]
  },
  {
   "cell_type": "code",
   "execution_count": 81,
   "metadata": {},
   "outputs": [
    {
     "data": {
      "text/plain": [
       "<tf.Tensor: id=783, shape=(4, 2, 3), dtype=float32, numpy=\n",
       "array([[[  0.,   0.,   0.],\n",
       "        [  0.,   0.,   0.]],\n",
       "\n",
       "       [[ 16.,  12.,  10.],\n",
       "        [ 64.,  48.,  40.]],\n",
       "\n",
       "       [[ 24.,  18.,  15.],\n",
       "        [ 96.,  72.,  60.]],\n",
       "\n",
       "       [[ 56.,  42.,  35.],\n",
       "        [224., 168., 140.]]], dtype=float32)>"
      ]
     },
     "execution_count": 81,
     "metadata": {},
     "output_type": "execute_result"
    }
   ],
   "source": [
    "tf.sparse.to_dense(st)"
   ]
  },
  {
   "cell_type": "code",
   "execution_count": 62,
   "metadata": {},
   "outputs": [
    {
     "data": {
      "text/plain": [
       "10.0"
      ]
     },
     "execution_count": 62,
     "metadata": {},
     "output_type": "execute_result"
    }
   ],
   "source": [
    "st.values.numpy()[2]"
   ]
  },
  {
   "cell_type": "code",
   "execution_count": 73,
   "metadata": {},
   "outputs": [
    {
     "name": "stdout",
     "output_type": "stream",
     "text": [
      "[1 0 1]\n"
     ]
    }
   ],
   "source": [
    "print(st.indices.numpy()[1])"
   ]
  },
  {
   "cell_type": "code",
   "execution_count": 27,
   "metadata": {},
   "outputs": [],
   "source": [
    "def cp_als(X, r):\n",
    "    factors = []\n",
    "    for i in range(nd):\n",
    "        factors.append(np.ones((dimensions[i],r)))\n",
    "    for repeats in range(3):                   #how many iterations are we doing\n",
    "        for n in range(nd):\n",
    "            l_h = [mul(f.T,f) for f in factors] \n",
    "            V = gen_had(l_h, skip_matrix=n)    #gets hadamard product of all mult(f[i].T,f[i])\n",
    "            Vinv = np.linalg.pinv(V)           #do pseudoinverse in case V is singular\n",
    "            mk = MTTKRP(X, factors, n,r,dims)\n",
    "            factors[n] = mul(mk,Vinv)\n",
    "    return factors"
   ]
  },
  {
   "cell_type": "code",
   "execution_count": 50,
   "metadata": {},
   "outputs": [
    {
     "data": {
      "text/plain": [
       "18"
      ]
     },
     "execution_count": 50,
     "metadata": {},
     "output_type": "execute_result"
    }
   ],
   "source": [
    "len(st.values.numpy())"
   ]
  },
  {
   "cell_type": "markdown",
   "metadata": {},
   "source": [
    "# Things necessary to make this algorithm work for tf.SparseTensor\n",
    "\n",
    "**Note:** factors are dense, so they can be stored with numpy.ndarrays.\n",
    "\n",
    "**Note:**\n",
    "* dimensions of V: rank * rank\n",
    "* dim of Vinv: rank * rank\n",
    "* dim of X_u: $I_n * (\\Pi I_i)/I_n$, note, this is just a rearrangement of our initial SparseTensor, so this will be sparse\n",
    "* dim of KR: \n",
    "* dim of tmp1 = $(\\Pi I_i)/I_n * rank$, \n",
    "* X_u * temp1 = (I_n * something) * (something, R)\n",
    "* dim of tmp2: I_n * rank (makes sense because this is the literal definition of factor size)\n",
    "\n",
    "\n",
    "**Note:** "
   ]
  },
  {
   "cell_type": "code",
   "execution_count": 28,
   "metadata": {},
   "outputs": [
    {
     "ename": "NameError",
     "evalue": "name 'mul' is not defined",
     "output_type": "error",
     "traceback": [
      "\u001b[0;31m---------------------------------------------------------------------------\u001b[0m",
      "\u001b[0;31mNameError\u001b[0m                                 Traceback (most recent call last)",
      "\u001b[0;32m<ipython-input-28-92cebf7a5e87>\u001b[0m in \u001b[0;36m<module>\u001b[0;34m\u001b[0m\n\u001b[1;32m      1\u001b[0m \u001b[0mnd\u001b[0m \u001b[0;34m=\u001b[0m \u001b[0;36m3\u001b[0m\u001b[0;34m\u001b[0m\u001b[0;34m\u001b[0m\u001b[0m\n\u001b[1;32m      2\u001b[0m \u001b[0mdimensions\u001b[0m\u001b[0;34m=\u001b[0m\u001b[0;34m(\u001b[0m\u001b[0;36m2\u001b[0m\u001b[0;34m,\u001b[0m\u001b[0;36m4\u001b[0m\u001b[0;34m,\u001b[0m\u001b[0;36m3\u001b[0m\u001b[0;34m)\u001b[0m\u001b[0;34m\u001b[0m\u001b[0;34m\u001b[0m\u001b[0m\n\u001b[0;32m----> 3\u001b[0;31m \u001b[0mf\u001b[0m \u001b[0;34m=\u001b[0m \u001b[0mcp_als\u001b[0m\u001b[0;34m(\u001b[0m\u001b[0minit_arr\u001b[0m\u001b[0;34m,\u001b[0m \u001b[0;36m1\u001b[0m\u001b[0;34m)\u001b[0m\u001b[0;34m\u001b[0m\u001b[0;34m\u001b[0m\u001b[0m\n\u001b[0m",
      "\u001b[0;32m<ipython-input-27-41e7ec0f6a70>\u001b[0m in \u001b[0;36mcp_als\u001b[0;34m(X, r)\u001b[0m\n\u001b[1;32m      5\u001b[0m     \u001b[0;32mfor\u001b[0m \u001b[0mrepeats\u001b[0m \u001b[0;32min\u001b[0m \u001b[0mrange\u001b[0m\u001b[0;34m(\u001b[0m\u001b[0;36m3\u001b[0m\u001b[0;34m)\u001b[0m\u001b[0;34m:\u001b[0m                   \u001b[0;31m#how many iterations are we doing\u001b[0m\u001b[0;34m\u001b[0m\u001b[0;34m\u001b[0m\u001b[0m\n\u001b[1;32m      6\u001b[0m         \u001b[0;32mfor\u001b[0m \u001b[0mn\u001b[0m \u001b[0;32min\u001b[0m \u001b[0mrange\u001b[0m\u001b[0;34m(\u001b[0m\u001b[0mnd\u001b[0m\u001b[0;34m)\u001b[0m\u001b[0;34m:\u001b[0m\u001b[0;34m\u001b[0m\u001b[0;34m\u001b[0m\u001b[0m\n\u001b[0;32m----> 7\u001b[0;31m             \u001b[0ml_h\u001b[0m \u001b[0;34m=\u001b[0m \u001b[0;34m[\u001b[0m\u001b[0mmul\u001b[0m\u001b[0;34m(\u001b[0m\u001b[0mf\u001b[0m\u001b[0;34m.\u001b[0m\u001b[0mT\u001b[0m\u001b[0;34m,\u001b[0m\u001b[0mf\u001b[0m\u001b[0;34m)\u001b[0m \u001b[0;32mfor\u001b[0m \u001b[0mf\u001b[0m \u001b[0;32min\u001b[0m \u001b[0mfactors\u001b[0m\u001b[0;34m]\u001b[0m\u001b[0;34m\u001b[0m\u001b[0;34m\u001b[0m\u001b[0m\n\u001b[0m\u001b[1;32m      8\u001b[0m             \u001b[0mV\u001b[0m \u001b[0;34m=\u001b[0m \u001b[0mgen_had\u001b[0m\u001b[0;34m(\u001b[0m\u001b[0ml_h\u001b[0m\u001b[0;34m,\u001b[0m \u001b[0mskip_matrix\u001b[0m\u001b[0;34m=\u001b[0m\u001b[0mn\u001b[0m\u001b[0;34m)\u001b[0m    \u001b[0;31m#gets hadamard product of all mult(f[i].T,f[i])\u001b[0m\u001b[0;34m\u001b[0m\u001b[0;34m\u001b[0m\u001b[0m\n\u001b[1;32m      9\u001b[0m             \u001b[0mVinv\u001b[0m \u001b[0;34m=\u001b[0m \u001b[0mnp\u001b[0m\u001b[0;34m.\u001b[0m\u001b[0mlinalg\u001b[0m\u001b[0;34m.\u001b[0m\u001b[0mpinv\u001b[0m\u001b[0;34m(\u001b[0m\u001b[0mV\u001b[0m\u001b[0;34m)\u001b[0m           \u001b[0;31m#do pseudoinverse in case V is singular\u001b[0m\u001b[0;34m\u001b[0m\u001b[0;34m\u001b[0m\u001b[0m\n",
      "\u001b[0;32m<ipython-input-27-41e7ec0f6a70>\u001b[0m in \u001b[0;36m<listcomp>\u001b[0;34m(.0)\u001b[0m\n\u001b[1;32m      5\u001b[0m     \u001b[0;32mfor\u001b[0m \u001b[0mrepeats\u001b[0m \u001b[0;32min\u001b[0m \u001b[0mrange\u001b[0m\u001b[0;34m(\u001b[0m\u001b[0;36m3\u001b[0m\u001b[0;34m)\u001b[0m\u001b[0;34m:\u001b[0m                   \u001b[0;31m#how many iterations are we doing\u001b[0m\u001b[0;34m\u001b[0m\u001b[0;34m\u001b[0m\u001b[0m\n\u001b[1;32m      6\u001b[0m         \u001b[0;32mfor\u001b[0m \u001b[0mn\u001b[0m \u001b[0;32min\u001b[0m \u001b[0mrange\u001b[0m\u001b[0;34m(\u001b[0m\u001b[0mnd\u001b[0m\u001b[0;34m)\u001b[0m\u001b[0;34m:\u001b[0m\u001b[0;34m\u001b[0m\u001b[0;34m\u001b[0m\u001b[0m\n\u001b[0;32m----> 7\u001b[0;31m             \u001b[0ml_h\u001b[0m \u001b[0;34m=\u001b[0m \u001b[0;34m[\u001b[0m\u001b[0mmul\u001b[0m\u001b[0;34m(\u001b[0m\u001b[0mf\u001b[0m\u001b[0;34m.\u001b[0m\u001b[0mT\u001b[0m\u001b[0;34m,\u001b[0m\u001b[0mf\u001b[0m\u001b[0;34m)\u001b[0m \u001b[0;32mfor\u001b[0m \u001b[0mf\u001b[0m \u001b[0;32min\u001b[0m \u001b[0mfactors\u001b[0m\u001b[0;34m]\u001b[0m\u001b[0;34m\u001b[0m\u001b[0;34m\u001b[0m\u001b[0m\n\u001b[0m\u001b[1;32m      8\u001b[0m             \u001b[0mV\u001b[0m \u001b[0;34m=\u001b[0m \u001b[0mgen_had\u001b[0m\u001b[0;34m(\u001b[0m\u001b[0ml_h\u001b[0m\u001b[0;34m,\u001b[0m \u001b[0mskip_matrix\u001b[0m\u001b[0;34m=\u001b[0m\u001b[0mn\u001b[0m\u001b[0;34m)\u001b[0m    \u001b[0;31m#gets hadamard product of all mult(f[i].T,f[i])\u001b[0m\u001b[0;34m\u001b[0m\u001b[0;34m\u001b[0m\u001b[0m\n\u001b[1;32m      9\u001b[0m             \u001b[0mVinv\u001b[0m \u001b[0;34m=\u001b[0m \u001b[0mnp\u001b[0m\u001b[0;34m.\u001b[0m\u001b[0mlinalg\u001b[0m\u001b[0;34m.\u001b[0m\u001b[0mpinv\u001b[0m\u001b[0;34m(\u001b[0m\u001b[0mV\u001b[0m\u001b[0;34m)\u001b[0m           \u001b[0;31m#do pseudoinverse in case V is singular\u001b[0m\u001b[0;34m\u001b[0m\u001b[0;34m\u001b[0m\u001b[0m\n",
      "\u001b[0;31mNameError\u001b[0m: name 'mul' is not defined"
     ]
    }
   ],
   "source": [
    "nd = 3\n",
    "dimensions=(2,4,3)\n",
    "f = cp_als(init_arr, 1)"
   ]
  },
  {
   "cell_type": "code",
   "execution_count": 29,
   "metadata": {},
   "outputs": [
    {
     "ename": "NameError",
     "evalue": "name 'f' is not defined",
     "output_type": "error",
     "traceback": [
      "\u001b[0;31m---------------------------------------------------------------------------\u001b[0m",
      "\u001b[0;31mNameError\u001b[0m                                 Traceback (most recent call last)",
      "\u001b[0;32m<ipython-input-29-a9fcd54b25e7>\u001b[0m in \u001b[0;36m<module>\u001b[0;34m\u001b[0m\n\u001b[0;32m----> 1\u001b[0;31m \u001b[0mf\u001b[0m\u001b[0;34m\u001b[0m\u001b[0;34m\u001b[0m\u001b[0m\n\u001b[0m",
      "\u001b[0;31mNameError\u001b[0m: name 'f' is not defined"
     ]
    }
   ],
   "source": [
    "f"
   ]
  },
  {
   "cell_type": "code",
   "execution_count": 30,
   "metadata": {},
   "outputs": [],
   "source": [
    "def get_expand_arr(factors):\n",
    "    nd = len(f)\n",
    "    dimensions = [len(factor) for factor in f]\n",
    "    dims = tuple(dimensions)\n",
    "    base = ret = np.zeros(dims)\n",
    "    \n",
    "    def exp(num, idx, prod):\n",
    "        if prod == 0:\n",
    "            return\n",
    "        if num == nd:\n",
    "            base.itemset(tuple(idx), prod)\n",
    "            return\n",
    "        else:\n",
    "            factor = factors[num]\n",
    "            for i in range(len(factor)):\n",
    "                exp(num+1, idx + [i], prod * factor[i])\n",
    "    \n",
    "    exp(0,[],1)\n",
    "    return base"
   ]
  },
  {
   "cell_type": "code",
   "execution_count": 31,
   "metadata": {},
   "outputs": [
    {
     "ename": "NameError",
     "evalue": "name 'f' is not defined",
     "output_type": "error",
     "traceback": [
      "\u001b[0;31m---------------------------------------------------------------------------\u001b[0m",
      "\u001b[0;31mNameError\u001b[0m                                 Traceback (most recent call last)",
      "\u001b[0;32m<ipython-input-31-04eba27eec89>\u001b[0m in \u001b[0;36m<module>\u001b[0;34m\u001b[0m\n\u001b[0;32m----> 1\u001b[0;31m \u001b[0mget_expand_arr\u001b[0m\u001b[0;34m(\u001b[0m\u001b[0mf\u001b[0m\u001b[0;34m)\u001b[0m \u001b[0;31m#off by a factor of 2??\u001b[0m\u001b[0;34m\u001b[0m\u001b[0;34m\u001b[0m\u001b[0m\n\u001b[0m",
      "\u001b[0;31mNameError\u001b[0m: name 'f' is not defined"
     ]
    }
   ],
   "source": [
    "get_expand_arr(f) #off by a factor of 2??"
   ]
  },
  {
   "cell_type": "code",
   "execution_count": 32,
   "metadata": {},
   "outputs": [
    {
     "data": {
      "text/plain": [
       "array([[[0., 0., 0.],\n",
       "        [2., 3., 4.],\n",
       "        [2., 3., 4.],\n",
       "        [0., 0., 0.]],\n",
       "\n",
       "       [[0., 0., 0.],\n",
       "        [4., 6., 8.],\n",
       "        [4., 6., 8.],\n",
       "        [0., 0., 0.]]])"
      ]
     },
     "execution_count": 32,
     "metadata": {},
     "output_type": "execute_result"
    }
   ],
   "source": [
    "init_arr"
   ]
  },
  {
   "cell_type": "code",
   "execution_count": null,
   "metadata": {},
   "outputs": [],
   "source": []
  },
  {
   "cell_type": "code",
   "execution_count": null,
   "metadata": {},
   "outputs": [],
   "source": []
  },
  {
   "cell_type": "code",
   "execution_count": null,
   "metadata": {},
   "outputs": [],
   "source": []
  }
 ],
 "metadata": {
  "kernelspec": {
   "display_name": "Python 3",
   "language": "python",
   "name": "python3"
  },
  "language_info": {
   "codemirror_mode": {
    "name": "ipython",
    "version": 3
   },
   "file_extension": ".py",
   "mimetype": "text/x-python",
   "name": "python",
   "nbconvert_exporter": "python",
   "pygments_lexer": "ipython3",
   "version": "3.7.5"
  }
 },
 "nbformat": 4,
 "nbformat_minor": 2
}
